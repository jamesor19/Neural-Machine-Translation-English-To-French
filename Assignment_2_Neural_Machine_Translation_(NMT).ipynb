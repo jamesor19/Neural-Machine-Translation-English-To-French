{
  "nbformat": 4,
  "nbformat_minor": 0,
  "metadata": {
    "colab": {
      "name": "Assignment_2_Neural_Machine_Translation_(NMT).ipynb",
      "provenance": [],
      "collapsed_sections": []
    },
    "kernelspec": {
      "name": "python3",
      "display_name": "Python 3"
    },
    "accelerator": "GPU"
  },
  "cells": [
    {
      "cell_type": "markdown",
      "metadata": {
        "id": "hbCCeciU82w7"
      },
      "source": [
        "## James O'Rourke 15334121"
      ]
    },
    {
      "cell_type": "markdown",
      "metadata": {
        "id": "BYQt0nUEbAgN"
      },
      "source": [
        "**Assignment 2** focuses on the training on a Neural Machine Translation (NMT) system with an attention model.\n",
        "\n",
        "This is an **individual assignment** and usual rules for plagiarism apply! With this you agree that: \"In submitting this work I confirm that it is entirely my own. I acknowledge that I may be invited to online interview if there is any concern in relation to the integrity of my exam.\" \n",
        "\n",
        "**Write comments and documentation.**\n",
        "\n",
        "\n",
        "\n"
      ]
    },
    {
      "cell_type": "code",
      "metadata": {
        "id": "e11PUENQD3AT"
      },
      "source": [
        "#Loading some libraries i need\n",
        "\n",
        "import re\n",
        "import numpy as np\n",
        "import keras\n",
        "import tensorflow as tf\n",
        "from keras.models import Model\n",
        "from keras.layers import Input, LSTM, Dense,Embedding, Attention\n",
        "import nltk\n",
        "from google.colab import files\n"
      ],
      "execution_count": null,
      "outputs": []
    },
    {
      "cell_type": "markdown",
      "metadata": {
        "id": "d33hukl0w-Nh"
      },
      "source": [
        "## Section 1- Data Collection and Preprocessing \n",
        "\n",
        "\n",
        "---\n"
      ]
    },
    {
      "cell_type": "markdown",
      "metadata": {
        "id": "uAFJXKQaeN-d"
      },
      "source": [
        "**Task 1  (5 marks)**\n",
        "\n",
        "---\n",
        "\n",
        "There are few datasets to train an NMT system available from the OPUS project (http://opus.nlpl.eu/).\n",
        "\n",
        "*  Download a language pair (preferably European language) and **extract** the file(s) and upload it to CoLab\n",
        "*  Create a list of lines by splitting the text file at every occurrence accordingly, i.e. source and target language\n",
        "*  Print number of sentences\n",
        "*  Limit the number of sentences to 10,000 lines (but more than 5,000 lines)\n",
        "*  Split the data into train, development and test set\n",
        "*  Print 100th sentence in original script for source and target language"
      ]
    },
    {
      "cell_type": "code",
      "metadata": {
        "colab": {
          "resources": {
            "http://localhost:8080/nbextensions/google.colab/files.js": {
              "data": "Ly8gQ29weXJpZ2h0IDIwMTcgR29vZ2xlIExMQwovLwovLyBMaWNlbnNlZCB1bmRlciB0aGUgQXBhY2hlIExpY2Vuc2UsIFZlcnNpb24gMi4wICh0aGUgIkxpY2Vuc2UiKTsKLy8geW91IG1heSBub3QgdXNlIHRoaXMgZmlsZSBleGNlcHQgaW4gY29tcGxpYW5jZSB3aXRoIHRoZSBMaWNlbnNlLgovLyBZb3UgbWF5IG9idGFpbiBhIGNvcHkgb2YgdGhlIExpY2Vuc2UgYXQKLy8KLy8gICAgICBodHRwOi8vd3d3LmFwYWNoZS5vcmcvbGljZW5zZXMvTElDRU5TRS0yLjAKLy8KLy8gVW5sZXNzIHJlcXVpcmVkIGJ5IGFwcGxpY2FibGUgbGF3IG9yIGFncmVlZCB0byBpbiB3cml0aW5nLCBzb2Z0d2FyZQovLyBkaXN0cmlidXRlZCB1bmRlciB0aGUgTGljZW5zZSBpcyBkaXN0cmlidXRlZCBvbiBhbiAiQVMgSVMiIEJBU0lTLAovLyBXSVRIT1VUIFdBUlJBTlRJRVMgT1IgQ09ORElUSU9OUyBPRiBBTlkgS0lORCwgZWl0aGVyIGV4cHJlc3Mgb3IgaW1wbGllZC4KLy8gU2VlIHRoZSBMaWNlbnNlIGZvciB0aGUgc3BlY2lmaWMgbGFuZ3VhZ2UgZ292ZXJuaW5nIHBlcm1pc3Npb25zIGFuZAovLyBsaW1pdGF0aW9ucyB1bmRlciB0aGUgTGljZW5zZS4KCi8qKgogKiBAZmlsZW92ZXJ2aWV3IEhlbHBlcnMgZm9yIGdvb2dsZS5jb2xhYiBQeXRob24gbW9kdWxlLgogKi8KKGZ1bmN0aW9uKHNjb3BlKSB7CmZ1bmN0aW9uIHNwYW4odGV4dCwgc3R5bGVBdHRyaWJ1dGVzID0ge30pIHsKICBjb25zdCBlbGVtZW50ID0gZG9jdW1lbnQuY3JlYXRlRWxlbWVudCgnc3BhbicpOwogIGVsZW1lbnQudGV4dENvbnRlbnQgPSB0ZXh0OwogIGZvciAoY29uc3Qga2V5IG9mIE9iamVjdC5rZXlzKHN0eWxlQXR0cmlidXRlcykpIHsKICAgIGVsZW1lbnQuc3R5bGVba2V5XSA9IHN0eWxlQXR0cmlidXRlc1trZXldOwogIH0KICByZXR1cm4gZWxlbWVudDsKfQoKLy8gTWF4IG51bWJlciBvZiBieXRlcyB3aGljaCB3aWxsIGJlIHVwbG9hZGVkIGF0IGEgdGltZS4KY29uc3QgTUFYX1BBWUxPQURfU0laRSA9IDEwMCAqIDEwMjQ7CgpmdW5jdGlvbiBfdXBsb2FkRmlsZXMoaW5wdXRJZCwgb3V0cHV0SWQpIHsKICBjb25zdCBzdGVwcyA9IHVwbG9hZEZpbGVzU3RlcChpbnB1dElkLCBvdXRwdXRJZCk7CiAgY29uc3Qgb3V0cHV0RWxlbWVudCA9IGRvY3VtZW50LmdldEVsZW1lbnRCeUlkKG91dHB1dElkKTsKICAvLyBDYWNoZSBzdGVwcyBvbiB0aGUgb3V0cHV0RWxlbWVudCB0byBtYWtlIGl0IGF2YWlsYWJsZSBmb3IgdGhlIG5leHQgY2FsbAogIC8vIHRvIHVwbG9hZEZpbGVzQ29udGludWUgZnJvbSBQeXRob24uCiAgb3V0cHV0RWxlbWVudC5zdGVwcyA9IHN0ZXBzOwoKICByZXR1cm4gX3VwbG9hZEZpbGVzQ29udGludWUob3V0cHV0SWQpOwp9CgovLyBUaGlzIGlzIHJvdWdobHkgYW4gYXN5bmMgZ2VuZXJhdG9yIChub3Qgc3VwcG9ydGVkIGluIHRoZSBicm93c2VyIHlldCksCi8vIHdoZXJlIHRoZXJlIGFyZSBtdWx0aXBsZSBhc3luY2hyb25vdXMgc3RlcHMgYW5kIHRoZSBQeXRob24gc2lkZSBpcyBnb2luZwovLyB0byBwb2xsIGZvciBjb21wbGV0aW9uIG9mIGVhY2ggc3RlcC4KLy8gVGhpcyB1c2VzIGEgUHJvbWlzZSB0byBibG9jayB0aGUgcHl0aG9uIHNpZGUgb24gY29tcGxldGlvbiBvZiBlYWNoIHN0ZXAsCi8vIHRoZW4gcGFzc2VzIHRoZSByZXN1bHQgb2YgdGhlIHByZXZpb3VzIHN0ZXAgYXMgdGhlIGlucHV0IHRvIHRoZSBuZXh0IHN0ZXAuCmZ1bmN0aW9uIF91cGxvYWRGaWxlc0NvbnRpbnVlKG91dHB1dElkKSB7CiAgY29uc3Qgb3V0cHV0RWxlbWVudCA9IGRvY3VtZW50LmdldEVsZW1lbnRCeUlkKG91dHB1dElkKTsKICBjb25zdCBzdGVwcyA9IG91dHB1dEVsZW1lbnQuc3RlcHM7CgogIGNvbnN0IG5leHQgPSBzdGVwcy5uZXh0KG91dHB1dEVsZW1lbnQubGFzdFByb21pc2VWYWx1ZSk7CiAgcmV0dXJuIFByb21pc2UucmVzb2x2ZShuZXh0LnZhbHVlLnByb21pc2UpLnRoZW4oKHZhbHVlKSA9PiB7CiAgICAvLyBDYWNoZSB0aGUgbGFzdCBwcm9taXNlIHZhbHVlIHRvIG1ha2UgaXQgYXZhaWxhYmxlIHRvIHRoZSBuZXh0CiAgICAvLyBzdGVwIG9mIHRoZSBnZW5lcmF0b3IuCiAgICBvdXRwdXRFbGVtZW50Lmxhc3RQcm9taXNlVmFsdWUgPSB2YWx1ZTsKICAgIHJldHVybiBuZXh0LnZhbHVlLnJlc3BvbnNlOwogIH0pOwp9CgovKioKICogR2VuZXJhdG9yIGZ1bmN0aW9uIHdoaWNoIGlzIGNhbGxlZCBiZXR3ZWVuIGVhY2ggYXN5bmMgc3RlcCBvZiB0aGUgdXBsb2FkCiAqIHByb2Nlc3MuCiAqIEBwYXJhbSB7c3RyaW5nfSBpbnB1dElkIEVsZW1lbnQgSUQgb2YgdGhlIGlucHV0IGZpbGUgcGlja2VyIGVsZW1lbnQuCiAqIEBwYXJhbSB7c3RyaW5nfSBvdXRwdXRJZCBFbGVtZW50IElEIG9mIHRoZSBvdXRwdXQgZGlzcGxheS4KICogQHJldHVybiB7IUl0ZXJhYmxlPCFPYmplY3Q+fSBJdGVyYWJsZSBvZiBuZXh0IHN0ZXBzLgogKi8KZnVuY3Rpb24qIHVwbG9hZEZpbGVzU3RlcChpbnB1dElkLCBvdXRwdXRJZCkgewogIGNvbnN0IGlucHV0RWxlbWVudCA9IGRvY3VtZW50LmdldEVsZW1lbnRCeUlkKGlucHV0SWQpOwogIGlucHV0RWxlbWVudC5kaXNhYmxlZCA9IGZhbHNlOwoKICBjb25zdCBvdXRwdXRFbGVtZW50ID0gZG9jdW1lbnQuZ2V0RWxlbWVudEJ5SWQob3V0cHV0SWQpOwogIG91dHB1dEVsZW1lbnQuaW5uZXJIVE1MID0gJyc7CgogIGNvbnN0IHBpY2tlZFByb21pc2UgPSBuZXcgUHJvbWlzZSgocmVzb2x2ZSkgPT4gewogICAgaW5wdXRFbGVtZW50LmFkZEV2ZW50TGlzdGVuZXIoJ2NoYW5nZScsIChlKSA9PiB7CiAgICAgIHJlc29sdmUoZS50YXJnZXQuZmlsZXMpOwogICAgfSk7CiAgfSk7CgogIGNvbnN0IGNhbmNlbCA9IGRvY3VtZW50LmNyZWF0ZUVsZW1lbnQoJ2J1dHRvbicpOwogIGlucHV0RWxlbWVudC5wYXJlbnRFbGVtZW50LmFwcGVuZENoaWxkKGNhbmNlbCk7CiAgY2FuY2VsLnRleHRDb250ZW50ID0gJ0NhbmNlbCB1cGxvYWQnOwogIGNvbnN0IGNhbmNlbFByb21pc2UgPSBuZXcgUHJvbWlzZSgocmVzb2x2ZSkgPT4gewogICAgY2FuY2VsLm9uY2xpY2sgPSAoKSA9PiB7CiAgICAgIHJlc29sdmUobnVsbCk7CiAgICB9OwogIH0pOwoKICAvLyBXYWl0IGZvciB0aGUgdXNlciB0byBwaWNrIHRoZSBmaWxlcy4KICBjb25zdCBmaWxlcyA9IHlpZWxkIHsKICAgIHByb21pc2U6IFByb21pc2UucmFjZShbcGlja2VkUHJvbWlzZSwgY2FuY2VsUHJvbWlzZV0pLAogICAgcmVzcG9uc2U6IHsKICAgICAgYWN0aW9uOiAnc3RhcnRpbmcnLAogICAgfQogIH07CgogIGNhbmNlbC5yZW1vdmUoKTsKCiAgLy8gRGlzYWJsZSB0aGUgaW5wdXQgZWxlbWVudCBzaW5jZSBmdXJ0aGVyIHBpY2tzIGFyZSBub3QgYWxsb3dlZC4KICBpbnB1dEVsZW1lbnQuZGlzYWJsZWQgPSB0cnVlOwoKICBpZiAoIWZpbGVzKSB7CiAgICByZXR1cm4gewogICAgICByZXNwb25zZTogewogICAgICAgIGFjdGlvbjogJ2NvbXBsZXRlJywKICAgICAgfQogICAgfTsKICB9CgogIGZvciAoY29uc3QgZmlsZSBvZiBmaWxlcykgewogICAgY29uc3QgbGkgPSBkb2N1bWVudC5jcmVhdGVFbGVtZW50KCdsaScpOwogICAgbGkuYXBwZW5kKHNwYW4oZmlsZS5uYW1lLCB7Zm9udFdlaWdodDogJ2JvbGQnfSkpOwogICAgbGkuYXBwZW5kKHNwYW4oCiAgICAgICAgYCgke2ZpbGUudHlwZSB8fCAnbi9hJ30pIC0gJHtmaWxlLnNpemV9IGJ5dGVzLCBgICsKICAgICAgICBgbGFzdCBtb2RpZmllZDogJHsKICAgICAgICAgICAgZmlsZS5sYXN0TW9kaWZpZWREYXRlID8gZmlsZS5sYXN0TW9kaWZpZWREYXRlLnRvTG9jYWxlRGF0ZVN0cmluZygpIDoKICAgICAgICAgICAgICAgICAgICAgICAgICAgICAgICAgICAgJ24vYSd9IC0gYCkpOwogICAgY29uc3QgcGVyY2VudCA9IHNwYW4oJzAlIGRvbmUnKTsKICAgIGxpLmFwcGVuZENoaWxkKHBlcmNlbnQpOwoKICAgIG91dHB1dEVsZW1lbnQuYXBwZW5kQ2hpbGQobGkpOwoKICAgIGNvbnN0IGZpbGVEYXRhUHJvbWlzZSA9IG5ldyBQcm9taXNlKChyZXNvbHZlKSA9PiB7CiAgICAgIGNvbnN0IHJlYWRlciA9IG5ldyBGaWxlUmVhZGVyKCk7CiAgICAgIHJlYWRlci5vbmxvYWQgPSAoZSkgPT4gewogICAgICAgIHJlc29sdmUoZS50YXJnZXQucmVzdWx0KTsKICAgICAgfTsKICAgICAgcmVhZGVyLnJlYWRBc0FycmF5QnVmZmVyKGZpbGUpOwogICAgfSk7CiAgICAvLyBXYWl0IGZvciB0aGUgZGF0YSB0byBiZSByZWFkeS4KICAgIGxldCBmaWxlRGF0YSA9IHlpZWxkIHsKICAgICAgcHJvbWlzZTogZmlsZURhdGFQcm9taXNlLAogICAgICByZXNwb25zZTogewogICAgICAgIGFjdGlvbjogJ2NvbnRpbnVlJywKICAgICAgfQogICAgfTsKCiAgICAvLyBVc2UgYSBjaHVua2VkIHNlbmRpbmcgdG8gYXZvaWQgbWVzc2FnZSBzaXplIGxpbWl0cy4gU2VlIGIvNjIxMTU2NjAuCiAgICBsZXQgcG9zaXRpb24gPSAwOwogICAgd2hpbGUgKHBvc2l0aW9uIDwgZmlsZURhdGEuYnl0ZUxlbmd0aCkgewogICAgICBjb25zdCBsZW5ndGggPSBNYXRoLm1pbihmaWxlRGF0YS5ieXRlTGVuZ3RoIC0gcG9zaXRpb24sIE1BWF9QQVlMT0FEX1NJWkUpOwogICAgICBjb25zdCBjaHVuayA9IG5ldyBVaW50OEFycmF5KGZpbGVEYXRhLCBwb3NpdGlvbiwgbGVuZ3RoKTsKICAgICAgcG9zaXRpb24gKz0gbGVuZ3RoOwoKICAgICAgY29uc3QgYmFzZTY0ID0gYnRvYShTdHJpbmcuZnJvbUNoYXJDb2RlLmFwcGx5KG51bGwsIGNodW5rKSk7CiAgICAgIHlpZWxkIHsKICAgICAgICByZXNwb25zZTogewogICAgICAgICAgYWN0aW9uOiAnYXBwZW5kJywKICAgICAgICAgIGZpbGU6IGZpbGUubmFtZSwKICAgICAgICAgIGRhdGE6IGJhc2U2NCwKICAgICAgICB9LAogICAgICB9OwogICAgICBwZXJjZW50LnRleHRDb250ZW50ID0KICAgICAgICAgIGAke01hdGgucm91bmQoKHBvc2l0aW9uIC8gZmlsZURhdGEuYnl0ZUxlbmd0aCkgKiAxMDApfSUgZG9uZWA7CiAgICB9CiAgfQoKICAvLyBBbGwgZG9uZS4KICB5aWVsZCB7CiAgICByZXNwb25zZTogewogICAgICBhY3Rpb246ICdjb21wbGV0ZScsCiAgICB9CiAgfTsKfQoKc2NvcGUuZ29vZ2xlID0gc2NvcGUuZ29vZ2xlIHx8IHt9OwpzY29wZS5nb29nbGUuY29sYWIgPSBzY29wZS5nb29nbGUuY29sYWIgfHwge307CnNjb3BlLmdvb2dsZS5jb2xhYi5fZmlsZXMgPSB7CiAgX3VwbG9hZEZpbGVzLAogIF91cGxvYWRGaWxlc0NvbnRpbnVlLAp9Owp9KShzZWxmKTsK",
              "ok": true,
              "headers": [
                [
                  "content-type",
                  "application/javascript"
                ]
              ],
              "status": 200,
              "status_text": ""
            }
          },
          "base_uri": "https://localhost:8080/",
          "height": 105
        },
        "id": "iF-CPN7ulikY",
        "outputId": "34beaa66-c9f7-4b3b-f04d-1dad5b383dd5"
      },
      "source": [
        "#Slect the two corpus here Tatoeba.en.txt and Tatoeba.fr.txt\n",
        "uploaded = files.upload()"
      ],
      "execution_count": null,
      "outputs": [
        {
          "output_type": "display_data",
          "data": {
            "text/html": [
              "\n",
              "     <input type=\"file\" id=\"files-cea14ea0-cdc3-47e3-b46d-40fd0570f641\" name=\"files[]\" multiple disabled\n",
              "        style=\"border:none\" />\n",
              "     <output id=\"result-cea14ea0-cdc3-47e3-b46d-40fd0570f641\">\n",
              "      Upload widget is only available when the cell has been executed in the\n",
              "      current browser session. Please rerun this cell to enable.\n",
              "      </output>\n",
              "      <script src=\"/nbextensions/google.colab/files.js\"></script> "
            ],
            "text/plain": [
              "<IPython.core.display.HTML object>"
            ]
          },
          "metadata": {
            "tags": []
          }
        },
        {
          "output_type": "stream",
          "text": [
            "Saving Tatoeba.en.txt to Tatoeba.en.txt\n",
            "Saving Tatoeba.fr.txt to Tatoeba.fr.txt\n"
          ],
          "name": "stdout"
        }
      ]
    },
    {
      "cell_type": "code",
      "metadata": {
        "id": "9U9BaH3ozUGf",
        "colab": {
          "base_uri": "https://localhost:8080/"
        },
        "outputId": "3c822e89-1fa9-400a-82af-8d1979f54ed0"
      },
      "source": [
        "#The paths to the corpus files, English and French\n",
        "#I chose Tatoeba because they were nice and small phrases which suits the memory limations in Collab.\n",
        "#Tried using irish but the offered corpuses were insufficent \n",
        "\n",
        "engPath =  \"Tatoeba.en.txt\"\n",
        "\n",
        "frPath = \"Tatoeba.fr.txt\"\n",
        "\n",
        "\n",
        "#Reading the 2 files to as a list\n",
        "with open(engPath , 'r') as eng_file:\n",
        "  englines=eng_file.read().split('\\n')\n",
        "\n",
        "with open(frPath , 'r') as fr_file:\n",
        "  frlines=fr_file.read().split('\\n')\n",
        "\n",
        "#Will loop through all the lines and only keep lines with length 20 or less and add to lists below\n",
        "engText = []\n",
        "frText = []\n",
        "\n",
        "#Checked word count in English \n",
        "for i in range(len(englines)):\n",
        "  enline = englines[i]\n",
        "  frline = frlines[i]\n",
        "  if len(enline) < 21:\n",
        "    engText.append(enline)\n",
        "    frText.append(frline)\n",
        "\n",
        "print(\"100th line in source langauge is: \",engText[100])\n",
        "print(\"100th line in target langauge is: \",frText[100])\n",
        "\n",
        "#Will keep 1000 sentences for this assignment but will make the split later\n",
        "\n",
        "#Will reserve 90% of the data for training and 10% for testing\n",
        "splitNumber = int(0.90*len(engText))\n",
        "\n",
        "print(\"Number of sentences in courpus: \",len(engText))\n",
        "\n",
        "\n",
        "#My training data\n",
        "trainEn = engText[:splitNumber]\n",
        "trainfr = frText[:splitNumber]\n",
        "\n",
        "#My testing data\n",
        "testEn = engText[splitNumber:]\n",
        "testfr = frText[splitNumber:]\n"
      ],
      "execution_count": null,
      "outputs": [
        {
          "output_type": "stream",
          "text": [
            "100th line in source langauge is:  Nobody came. \n",
            "100th line in target langauge is:  Personne n'est venu. \n",
            "Number of sentences in courpus:  39795\n"
          ],
          "name": "stdout"
        }
      ]
    },
    {
      "cell_type": "markdown",
      "metadata": {
        "id": "x63IEWjUxkJj"
      },
      "source": [
        "**Task 2 (5 marks)** \n",
        "\n",
        "---\n",
        "\n",
        "* Add '<bof\\>' to denote beginning of sentence and '<eos\\>' to denote the end of the sentence to each target line.\n",
        "* Perform the pre-processing step of the text.\n",
        "* Print the last 5 sentences of the preprocessed text.\n",
        "* Print statistics on the selected dataset:\n",
        "  * Number of samples\n",
        "  * Number of unique source language tokens\n",
        "  * Number of unique target language tokens\n",
        "  * Max sequence length of source language\n",
        "  * Max sequence length of target language\n",
        "  * Source Vocabulary\n",
        "  * Target Vocabulary\n",
        "\n",
        "\n",
        "\n"
      ]
    },
    {
      "cell_type": "markdown",
      "metadata": {
        "id": "y3ocXuot-i46"
      },
      "source": [
        "For cleaning of text I removed the all punctuation and I also removed numbers if in the numerial form i.e. 1000 but not one thousand. I also converted the text to lowercase trimmed extra white space.\n",
        "\n",
        "I chose not to do any stemming or lemmization as I was unsure how the functions would effect the french words. My data did not contain many named entites beyond a few names and didnt remove them."
      ]
    },
    {
      "cell_type": "code",
      "metadata": {
        "id": "BxW76JlX0SAR"
      },
      "source": [
        "\n",
        "#remove punctutation, numbers, and extra space\n",
        "def cleanText(lineString):\n",
        "  #remove digits\n",
        "  clean = re.sub(r\"\\d+\", \"\", lineString)\n",
        "  #leave only words and spaces\n",
        "  clean = re.sub(r'[^\\w\\s]','',clean)\n",
        "  #remove extra space\n",
        "  clean = re.sub(' +', ' ',clean)\n",
        "  #trim the surrounding white space\n",
        "  clean = clean.strip()\n",
        "  #return the string in lower case\n",
        "  return clean.lower()\n",
        "\n",
        "#setting my lists for the texts temporaly\n",
        "temp_input_texts = list()\n",
        "temp_target_texts = list()\n",
        "\n",
        "#sets for storing my vocab\n",
        "input_words = set()\n",
        "target_words = set()\n",
        "\n",
        "\n",
        "#Goes through the text and performs the text cleaning\n",
        "for k in range(len(trainfr)):\n",
        "\n",
        "  cleanfr = cleanText(trainfr[k])\n",
        "  cleanEn =  cleanText(trainEn[k])\n",
        "  #Adds the markers for the start and end of target sentence \n",
        "  cleanfr = '<bof> '+ cleanfr +' <eos>'\n",
        "  #add them to our temporary text lists\n",
        "  temp_input_texts.append(cleanEn)\n",
        "  temp_target_texts.append(cleanfr)\n",
        "\n",
        "\n",
        "\n",
        "input_texts = []\n",
        "target_texts = []\n",
        "\n",
        "\n",
        "#Making sure my target_texts are't too long\n",
        "#I check the length in charcters here but after here I mostly use length of the sentecnes in words\n",
        "for i in range(min(10000,len(temp_input_texts))):\n",
        "  enline = temp_input_texts[i]\n",
        "  frline = temp_target_texts[i]\n",
        "  if len(frline) < 40:\n",
        "    input_texts.append(enline)\n",
        "    target_texts.append(frline)\n",
        "\n",
        "    #adding input text to vocab\n",
        "    for worden in enline.split():\n",
        "      if worden not in input_words:\n",
        "            input_words.add(worden)\n",
        "\n",
        "    #adding target words to vocab\n",
        "    for word in  frline.split():\n",
        "      if word not in target_words:\n",
        "        target_words.add(word)\n",
        "\n",
        "\n",
        "#I considered adding a unknown token to the input vocab and while this lead a higher BLEU it did lead to less coherent sentences I felt \n",
        "#input_words.add(\"<unk>\")\n"
      ],
      "execution_count": null,
      "outputs": []
    },
    {
      "cell_type": "code",
      "metadata": {
        "id": "pmNr8gnzfCeS",
        "colab": {
          "base_uri": "https://localhost:8080/"
        },
        "outputId": "c3b9797a-eb57-40d2-a0ce-5873b828d964"
      },
      "source": [
        "\n",
        "#Gettting the stats and printing them off\n",
        "input_words_vocab = sorted(list(input_words))\n",
        "target_words_vocab = sorted(list(target_words))\n",
        "num_encoder_tokens = len(input_words_vocab)\n",
        "num_decoder_tokens = len(target_words_vocab)\n",
        "max_encoder_seq_length = max([len(txt.split()) for txt in input_texts])\n",
        "max_decoder_seq_length = max([len(txt.split()) for txt in target_texts])\n",
        "\n",
        "\n",
        "print(\"Number of samples:\", len(input_texts))\n",
        "print(\"Number of unique input tokens:\", num_encoder_tokens)\n",
        "print(\"Number of unique output tokens:\", num_decoder_tokens)\n",
        "print(\"Max sequence length for inputs in words:\", max_encoder_seq_length)\n",
        "print(\"Max sequence length for outputs in words:\", max_decoder_seq_length,\"\\n\")\n",
        "\n",
        "print(\"Input word vocab\",input_words_vocab)\n",
        "print(\"Target word vocab\",target_words_vocab,\"\\n\")\n",
        "\n",
        "for i in range(len(input_texts)-5,len(input_texts)):\n",
        "  print(\"##########################################\")\n",
        "  print(\"Preprocessed Sentence number \",i,\"\\n\")\n",
        "  print(\"Source Sentence: \",input_texts[i],\"\\n\")\n",
        "  print(\"Target Sentence: \",target_texts[i],\"\\n\")\n",
        "\n"
      ],
      "execution_count": null,
      "outputs": [
        {
          "output_type": "stream",
          "text": [
            "Number of samples: 9345\n",
            "Number of unique input tokens: 2587\n",
            "Number of unique output tokens: 4176\n",
            "Max sequence length for inputs in words: 6\n",
            "Max sequence length for outputs in words: 10 \n",
            "\n",
            "Input word vocab ['a', 'abandon', 'abating', 'abbott', 'abhor', 'able', 'aboard', 'about', 'above', 'abreast', 'abroad', 'absent', 'absentees', 'absurd', 'accelerated', 'accept', 'according', 'account', 'ache', 'ached', 'aches', 'aching', 'achoo', 'acid', 'acquitted', 'act', 'action', 'actions', 'active', 'actor', 'actors', 'actresses', 'acts', 'add', 'addict', 'address', 'adjust', 'admire', 'admission', 'admit', 'adopted', 'adores', 'adults', 'advance', 'adventure', 'advice', 'advised', 'affair', 'afraid', 'after', 'afternoon', 'again', 'against', 'age', 'ages', 'aggressive', 'ago', 'agree', 'agreed', 'agreement', 'ah', 'ahead', 'ahhh', 'ahmad', 'aint', 'air', 'airmail', 'airplane', 'aisle', 'alains', 'alarm', 'album', 'alex', 'alice', 'alike', 'alive', 'all', 'allah', 'allen', 'allow', 'allowed', 'almost', 'alone', 'along', 'aloof', 'already', 'alright', 'also', 'always', 'am', 'amazing', 'ambition', 'ambitious', 'ambulance', 'america', 'american', 'among', 'amuse', 'amused', 'an', 'and', 'andrea', 'anemic', 'angel', 'angry', 'animals', 'ann', 'anniversary', 'annoying', 'annoys', 'another', 'answer', 'answered', 'antisocial', 'antonio', 'any', 'anybody', 'anyone', 'anything', 'anytime', 'anyway', 'aoi', 'apart', 'apologise', 'apologize', 'apology', 'appeared', 'applauded', 'apple', 'apples', 'appreciate', 'april', 'arabic', 'arabs', 'are', 'area', 'arent', 'arm', 'arms', 'around', 'arrive', 'arrived', 'art', 'artists', 'arts', 'as', 'ashes', 'aside', 'ask', 'asked', 'asking', 'asleep', 'aspirin', 'asshole', 'assist', 'astigmatic', 'astigmatism', 'astrology', 'at', 'ate', 'atheist', 'attacks', 'attend', 'attention', 'attractive', 'aunt', 'australia', 'australian', 'australians', 'austrian', 'author', 'autumn', 'available', 'avoids', 'awake', 'awakens', 'aware', 'away', 'awesome', 'awful', 'awkward', 'b', 'baby', 'bach', 'bachelor', 'back', 'backache', 'backward', 'baclava', 'bad', 'badger', 'badly', 'bag', 'baggage', 'baked', 'baker', 'bakery', 'baking', 'balcony', 'ball', 'balls', 'banana', 'bananas', 'band', 'bank', 'banker', 'bankrupt', 'barber', 'barking', 'baseball', 'bastard', 'bat', 'bath', 'bathing', 'battery', 'be', 'bear', 'beard', 'beat', 'beats', 'beautiful', 'beauty', 'became', 'becomes', 'bed', 'bedroom', 'bedtime', 'bee', 'beef', 'been', 'beer', 'beers', 'bees', 'before', 'beg', 'began', 'begging', 'begin', 'beginner', 'beginning', 'behave', 'behaved', 'behind', 'behold', 'being', 'believe', 'believer', 'bell', 'below', 'bends', 'bent', 'beside', 'best', 'bet', 'bets', 'better', 'betty', 'beware', 'beyond', 'bicycle', 'bid', 'big', 'bike', 'bikes', 'bill', 'biologist', 'bird', 'birds', 'birdy', 'birthday', 'bit', 'bite', 'biting', 'bitterly', 'black', 'blacked', 'blackmailed', 'blah', 'blame', 'blanks', 'bled', 'bleeding', 'bleeds', 'bless', 'blew', 'blind', 'bliss', 'blocked', 'blog', 'blond', 'blood', 'bloom', 'blown', 'blows', 'blue', 'blush', 'blushed', 'boat', 'bob', 'body', 'bogus', 'boil', 'bold', 'bon', 'book', 'booked', 'books', 'bore', 'bored', 'boring', 'born', 'borrow', 'boss', 'both', 'bother', 'bothering', 'bottle', 'bottom', 'bottoms', 'bought', 'bound', 'bowed', 'box', 'boy', 'boys', 'brains', 'brakes', 'brand', 'brass', 'brave', 'brazil', 'bread', 'break', 'breakfast', 'breaking', 'breaks', 'breath', 'breathed', 'breathing', 'brewed', 'brewing', 'brian', 'bright', 'brightened', 'brilliant', 'bring', 'brings', 'broke', 'broken', 'brother', 'brothers', 'brought', 'brown', 'bruise', 'brush', 'brutus', 'bud', 'bugger', 'building', 'built', 'bullet', 'bullshit', 'bunches', 'burn', 'burned', 'burns', 'burst', 'bury', 'bus', 'business', 'busy', 'but', 'butt', 'button', 'buy', 'buys', 'by', 'bye', 'cab', 'cafe', 'cake', 'cakes', 'call', 'called', 'calls', 'calm', 'came', 'camel', 'camera', 'cameras', 'camomile', 'camping', 'can', 'canada', 'canadian', 'cancer', 'candle', 'cannot', 'canoe', 'cant', 'cap', 'capsized', 'captured', 'car', 'card', 'cards', 'care', 'careful', 'carefully', 'cares', 'carrots', 'carry', 'cars', 'cartwheel', 'case', 'cash', 'cast', 'castles', 'cat', 'catch', 'catching', 'cathy', 'cats', 'cattle', 'caught', 'cause', 'caution', 'caviar', 'cd', 'cds', 'cecil', 'certain', 'certainly', 'chained', 'chair', 'change', 'changed', 'chartered', 'cheap', 'cheat', 'cheated', 'check', 'checkmate', 'cheer', 'cheers', 'cheese', 'chemistry', 'cheque', 'cherries', 'chess', 'chicago', 'chicken', 'child', 'children', 'chilly', 'china', 'chinese', 'chirping', 'chocolate', 'choice', 'choose', 'chopin', 'christmas', 'cigarettes', 'circle', 'city', 'clapped', 'class', 'classified', 'classmate', 'clean', 'cleaned', 'clear', 'cleared', 'clearly', 'clerk', 'clever', 'climb', 'clock', 'clocks', 'close', 'closed', 'closedminded', 'closely', 'clothes', 'cloudy', 'cmon', 'coat', 'coffee', 'coin', 'coincidence', 'coke', 'cold', 'colleague', 'colombia', 'color', 'colorblind', 'come', 'comedian', 'comedies', 'comes', 'comfort', 'comic', 'coming', 'comment', 'communism', 'compare', 'complain', 'completely', 'computer', 'confessed', 'confused', 'congratulations', 'consider', 'constipated', 'contented', 'continued', 'contributing', 'control', 'convenient', 'convex', 'cook', 'cooked', 'cooking', 'cooks', 'cool', 'cooled', 'copy', 'copycat', 'corner', 'correct', 'corrected', 'cost', 'cough', 'coughed', 'could', 'couldnt', 'couldve', 'count', 'course', 'cousin', 'cousins', 'cover', 'cow', 'cowards', 'cows', 'cracking', 'cramps', 'crank', 'cranky', 'crazy', 'cream', 'cried', 'crime', 'cross', 'crow', 'crown', 'crushed', 'cry', 'crying', 'cubed', 'culpa', 'cultivate', 'cup', 'cure', 'curfew', 'curious', 'curt', 'curtain', 'cut', 'cute', 'dad', 'damage', 'dammit', 'damn', 'damned', 'dan', 'dana', 'dance', 'dances', 'dancing', 'danger', 'dangerous', 'dare', 'daredevil', 'dark', 'darkened', 'daughter', 'david', 'dawg', 'dawn', 'day', 'days', 'dead', 'deaf', 'deal', 'deals', 'dear', 'death', 'debt', 'deceive', 'deceived', 'decided', 'decision', 'deep', 'deeply', 'deer', 'definitely', 'degas', 'delicious', 'demented', 'deny', 'depend', 'depends', 'depressed', 'desk', 'despised', 'detective', 'devil', 'diabetes', 'diabetic', 'dial', 'diarrhea', 'diary', 'dick', 'dictionary', 'did', 'didnt', 'die', 'died', 'dies', 'diet', 'dieting', 'differ', 'difficult', 'dig', 'dinner', 'dinners', 'dirty', 'disagree', 'disappointed', 'disco', 'discs', 'disgrace', 'disgusting', 'dishes', 'dislike', 'disliked', 'disney', 'disobey', 'distraction', 'disturb', 'disturbed', 'divorced', 'dizzy', 'dj', 'do', 'dobber', 'doc', 'doctor', 'doctors', 'does', 'doesnt', 'dog', 'dogs', 'doing', 'doll', 'done', 'dont', 'door', 'doorbell', 'doors', 'double', 'doubt', 'doubts', 'down', 'downstairs', 'downtown', 'dozed', 'dramatist', 'drank', 'draw', 'dream', 'dreams', 'dreamt', 'dress', 'dressed', 'drew', 'drink', 'drinks', 'drive', 'driver', 'drives', 'drop', 'dropped', 'drove', 'drowned', 'drum', 'drunk', 'dry', 'duck', 'dude', 'due', 'dug', 'dumb', 'dumbfounded', 'dunno', 'dust', 'duty', 'dvd', 'dying', 'each', 'ear', 'earache', 'early', 'earns', 'ears', 'earth', 'ease', 'easily', 'easter', 'easy', 'easygoing', 'eat', 'eaten', 'eater', 'eating', 'eats', 'economy', 'edgar', 'edible', 'egg', 'eggs', 'egypt', 'eight', 'eighteen', 'eldest', 'elected', 'elephants', 'else', 'embarrassed', 'embarrassing', 'emergency', 'emi', 'employs', 'empty', 'end', 'ended', 'endorse', 'endure', 'enemies', 'engine', 'engineer', 'england', 'english', 'englishman', 'enjoy', 'enjoyable', 'enjoyed', 'enough', 'enroll', 'enter', 'envelope', 'envy', 'equal', 'err', 'error', 'errors', 'escape', 'escaped', 'eureka', 'even', 'evening', 'every', 'everybody', 'everyone', 'everything', 'everythings', 'evil', 'exactly', 'exam', 'example', 'excited', 'exciting', 'excuse', 'excused', 'exhausted', 'exist', 'exists', 'exit', 'expect', 'expecting', 'expensive', 'explain', 'extremely', 'eye', 'eyes', 'fabulous', 'face', 'fact', 'facts', 'faggot', 'fail', 'failed', 'fails', 'fainted', 'fair', 'faithful', 'fake', 'fall', 'fallen', 'falling', 'false', 'family', 'famished', 'famous', 'fan', 'fancy', 'fantastic', 'far', 'farshad', 'fashionable', 'fast', 'faster', 'fat', 'father', 'fault', 'favor', 'fear', 'feared', 'fed', 'feed', 'feel', 'feeling', 'feels', 'feet', 'fell', 'felt', 'fetch', 'fever', 'feverish', 'few', 'field', 'fight', 'filed', 'fill', 'filled', 'fills', 'film', 'finally', 'find', 'fine', 'finger', 'finish', 'finished', 'fire', 'fired', 'firefox', 'fireworks', 'first', 'fish', 'fishing', 'fishmonger', 'fit', 'fits', 'five', 'fix', 'fixed', 'flabbergasted', 'flag', 'flat', 'flatly', 'flew', 'flexible', 'flies', 'flight', 'floor', 'flowers', 'flu', 'fly', 'fog', 'foggy', 'fold', 'follow', 'followed', 'fond', 'food', 'fool', 'fooled', 'foolish', 'foot', 'football', 'for', 'forced', 'ford', 'foreigner', 'forget', 'forgive', 'forgot', 'form', 'formula', 'forsake', 'fortress', 'forty', 'found', 'four', 'fox', 'foxes', 'fractured', 'france', 'freak', 'fred', 'free', 'freezing', 'french', 'frenchman', 'fresh', 'friend', 'friends', 'from', 'frowned', 'frozen', 'fruit', 'fry', 'fuck', 'fucked', 'fuckin', 'fucking', 'full', 'fun', 'funny', 'fuse', 'fuss', 'futon', 'future', 'gain', 'gaining', 'game', 'games', 'gap', 'gaps', 'gas', 'gave', 'gay', 'gazed', 'genius', 'gentle', 'gentleman', 'genuine', 'german', 'get', 'getting', 'ghosts', 'gifts', 'girl', 'girls', 'give', 'gives', 'glad', 'glass', 'glasses', 'gloomy', 'glory', 'go', 'goal', 'goats', 'gob', 'god', 'gods', 'godsend', 'godspeed', 'goes', 'goin', 'going', 'gold', 'golf', 'gone', 'good', 'goodbye', 'goodnatured', 'goodnight', 'got', 'gotcha', 'gotten', 'grab', 'graceful', 'grade', 'grain', 'grammar', 'grand', 'grant', 'grape', 'grass', 'grave', 'gray', 'greasy', 'great', 'greedy', 'green', 'grew', 'grey', 'gritted', 'gross', 'grow', 'grown', 'grows', 'grumbling', 'guessed', 'guilty', 'guitar', 'gun', 'guts', 'guy', 'guys', 'had', 'hailing', 'hair', 'hairs', 'half', 'halloween', 'hamlet', 'hammer', 'hand', 'handed', 'handle', 'handrail', 'hands', 'handsome', 'hang', 'hanged', 'hangover', 'happen', 'happened', 'happening', 'happens', 'happily', 'happiness', 'happy', 'hard', 'hardly', 'harm', 'harry', 'has', 'hase', 'hasnt', 'haste', 'hat', 'hate', 'hated', 'hates', 'have', 'having', 'hay', 'he', 'head', 'headache', 'health', 'healthy', 'hear', 'heard', 'heart', 'heartbreaking', 'heartburn', 'heartless', 'hearts', 'heaven', 'heavens', 'heavily', 'heavy', 'held', 'hell', 'hello', 'help', 'helped', 'helps', 'hemorrhoids', 'henry', 'her', 'here', 'heres', 'hero', 'heroic', 'hers', 'hes', 'hey', 'hi', 'hiccup', 'hidden', 'high', 'highway', 'hiking', 'him', 'himself', 'hindsight', 'hint', 'hired', 'his', 'hisashi', 'history', 'hit', 'hither', 'hitomi', 'hives', 'hobby', 'hold', 'hole', 'holiday', 'holy', 'home', 'homeland', 'homesick', 'homework', 'honest', 'honey', 'honor', 'hood', 'hope', 'hopeless', 'hopkins', 'horse', 'hospital', 'hot', 'hotshot', 'hour', 'hours', 'house', 'housewife', 'how', 'howdy', 'howre', 'hows', 'huge', 'hugged', 'human', 'humanity', 'hung', 'hungover', 'hungry', 'hunt', 'hunted', 'hunter', 'hunting', 'hurried', 'hurry', 'hurt', 'hurts', 'hush', 'hyogo', 'hyperactive', 'i', 'ice', 'id', 'idea', 'ideas', 'idiot', 'if', 'ignorance', 'ill', 'illusion', 'im', 'important', 'impossible', 'impressed', 'impudence', 'in', 'included', 'incomplete', 'incredible', 'india', 'influential', 'ingo', 'injured', 'ink', 'innings', 'innit', 'insane', 'insanity', 'insatiably', 'insects', 'inside', 'intelligent', 'interesting', 'interfere', 'interrupt', 'into', 'intriguing', 'introverted', 'invisible', 'invite', 'inviting', 'iron', 'is', 'ishmael', 'isnt', 'it', 'italian', 'italy', 'itching', 'itchy', 'itll', 'its', 'ive', 'ivo', 'jack', 'jackpot', 'jane', 'janes', 'japan', 'japanese', 'jazz', 'jeans', 'jelly', 'jerk', 'jesus', 'jim', 'jimmy', 'jiro', 'job', 'joe', 'jogging', 'john', 'join', 'joke', 'joker', 'jokes', 'joking', 'jorge', 'journalist', 'joy', 'judgement', 'judy', 'jump', 'jumped', 'jury', 'just', 'justice', 'kakogawa', 'karaoke', 'karin', 'kate', 'kawaguchi', 'keen', 'keep', 'keeps', 'keiko', 'ken', 'kenji', 'kept', 'kerrys', 'kevin', 'key', 'keys', 'khazi', 'kicked', 'kid', 'kidding', 'kids', 'kill', 'killed', 'killing', 'kills', 'kilos', 'kind', 'kindly', 'king', 'kiss', 'knackered', 'knees', 'knew', 'knife', 'knit', 'knock', 'know', 'knowing', 'knowledge', 'knows', 'kobe', 'korean', 'kyoto', 'lack', 'lacks', 'ladies', 'lady', 'lake', 'lame', 'languages', 'large', 'larger', 'lasagna', 'last', 'late', 'later', 'latin', 'laugh', 'laughed', 'laughs', 'law', 'lay', 'lazy', 'lead', 'leader', 'leaks', 'leaped', 'learn', 'learned', 'learning', 'learns', 'leave', 'leaves', 'leaving', 'left', 'lefthanded', 'lefty', 'leg', 'legs', 'lemon', 'lemons', 'lend', 'lent', 'less', 'lesson', 'let', 'lets', 'letter', 'li', 'lie', 'lied', 'lies', 'life', 'lifework', 'lifted', 'light', 'lights', 'like', 'liked', 'likes', 'lin', 'line', 'lion', 'liquid', 'listen', 'lit', 'litter', 'little', 'live', 'lived', 'lives', 'livid', 'living', 'lock', 'locked', 'london', 'lonely', 'lonesome', 'long', 'loo', 'look', 'looked', 'looking', 'looks', 'lose', 'loser', 'losing', 'lost', 'lot', 'lottery', 'loud', 'louder', 'love', 'loved', 'lovely', 'lover', 'loves', 'loving', 'low', 'luck', 'lucky', 'ludicrous', 'ludwig', 'luis', 'lunatic', 'lunch', 'lying', 'lynn', 'mac', 'mad', 'madam', 'made', 'madness', 'mahjong', 'maid', 'mail', 'major', 'make', 'makes', 'maketh', 'making', 'mammal', 'man', 'mangas', 'manners', 'many', 'map', 'mark', 'married', 'marry', 'mary', 'master', 'match', 'math', 'mathematics', 'maths', 'matter', 'may', 'maybe', 'mayor', 'me', 'mea', 'meal', 'meals', 'mean', 'means', 'meant', 'meat', 'medic', 'meet', 'meeting', 'meg', 'melons', 'melted', 'melting', 'melts', 'memorize', 'memory', 'men', 'menstruate', 'mention', 'mentioned', 'menu', 'mercy', 'merely', 'merry', 'mess', 'message', 'met', 'metal', 'mew', 'midnight', 'might', 'migraine', 'miho', 'mike', 'milan', 'mile', 'miles', 'milk', 'milkman', 'mind', 'mine', 'minging', 'minors', 'minute', 'mirror', 'misfit', 'miss', 'missed', 'missing', 'mistake', 'mistaken', 'moldy', 'mom', 'moment', 'monday', 'mondays', 'money', 'monkey', 'month', 'mood', 'more', 'mornin', 'morning', 'moron', 'mortal', 'mother', 'mothers', 'motor', 'mouse', 'mouth', 'move', 'moved', 'moves', 'movie', 'movies', 'mr', 'much', 'mud', 'mugged', 'muiriel', 'muiriels', 'mum', 'mums', 'muscle', 'museum', 'music', 'must', 'mustnt', 'my', 'myself', 'nagasaki', 'nails', 'naked', 'name', 'names', 'nancy', 'nash', 'nasty', 'natto', 'naturally', 'naughty', 'near', 'nearby', 'necessary', 'need', 'needed', 'needs', 'neighbors', 'neighbour', 'neighbours', 'neither', 'nephew', 'nerve', 'nervous', 'net', 'never', 'new', 'news', 'next', 'nice', 'nicely', 'nieces', 'night', 'nightmare', 'nine', 'no', 'nobody', 'nobodys', 'nobuyuki', 'noes', 'noise', 'nonsense', 'nonstop', 'noodles', 'noon', 'normal', 'north', 'nose', 'not', 'note', 'nothing', 'notice', 'novel', 'now', 'num', 'number', 'nurse', 'nuts', 'obey', 'obstinate', 'obviously', 'occupied', 'ocean', 'oclock', 'odd', 'of', 'off', 'offer', 'office', 'often', 'oh', 'oil', 'oiled', 'ok', 'okay', 'old', 'omnivore', 'on', 'once', 'one', 'ones', 'online', 'only', 'open', 'opened', 'opening', 'opens', 'opinion', 'oppose', 'or', 'orange', 'oranges', 'order', 'ordered', 'osaka', 'other', 'others', 'otherwise', 'ouch', 'ought', 'our', 'ours', 'out', 'outgoing', 'outside', 'outta', 'outwitted', 'over', 'overboard', 'overdo', 'overslept', 'overweight', 'overworked', 'owe', 'owl', 'own', 'owns', 'p', 'page', 'pagoda', 'paid', 'pain', 'paint', 'painter', 'painting', 'pajamas', 'pale', 'pants', 'papa', 'paper', 'parallel', 'pardon', 'parents', 'paris', 'park', 'parties', 'party', 'pass', 'passed', 'passport', 'password', 'past', 'pasta', 'patent', 'path', 'pathetic', 'patience', 'patient', 'paul', 'pause', 'pay', 'peace', 'peculiar', 'peels', 'pen', 'pencil', 'pens', 'people', 'perfect', 'perhaps', 'person', 'pete', 'peter', 'pheasant', 'phone', 'phoned', 'phony', 'photo', 'photogenic', 'physicist', 'pianist', 'piano', 'picasso', 'pick', 'picked', 'picture', 'pie', 'pieces', 'pigeontoed', 'pillow', 'pilots', 'pink', 'piss', 'pitied', 'pity', 'place', 'plan', 'plane', 'planet', 'plants', 'plates', 'play', 'played', 'playing', 'plays', 'plead', 'please', 'pochis', 'poems', 'poet', 'point', 'pointed', 'police', 'policeman', 'polite', 'politely', 'politics', 'pooped', 'poor', 'pop', 'pope', 'popular', 'populous', 'posed', 'positive', 'possible', 'postcard', 'posted', 'potatoes', 'poured', 'pouring', 'power', 'powerful', 'precisely', 'prefer', 'pregnant', 'prepared', 'prepay', 'present', 'pretend', 'pretty', 'prevails', 'price', 'prices', 'princess', 'prob', 'problem', 'professor', 'prohibited', 'promoted', 'proud', 'prove', 'pulled', 'pulse', 'pumpkin', 'pun', 'punctual', 'punctured', 'pupil', 'pupils', 'pure', 'purpose', 'purr', 'push', 'pussy', 'put', 'qed', 'quarreled', 'queen', 'queer', 'question', 'quick', 'quickly', 'quiet', 'quietly', 'quit', 'quite', 'quitting', 'r', 'racket', 'rackets', 'radio', 'rage', 'raging', 'rain', 'rained', 'raining', 'rainy', 'raise', 'raised', 'raking', 'ramble', 'ran', 'rang', 'rap', 'rarely', 'rather', 'reach', 'read', 'reading', 'reads', 'ready', 'real', 'reality', 'really', 'rear', 'reason', 'receipt', 'red', 'refreshed', 'refund', 'refused', 'refuses', 'regret', 'relax', 'relied', 'relieved', 'religious', 'rely', 'remained', 'remember', 'remind', 'remove', 'rent', 'rented', 'repair', 'repeat', 'rephrase', 'replace', 'reply', 'reptiles', 'request', 'resign', 'resigning', 'resist', 'resisting', 'respect', 'respond', 'rest', 'retired', 'return', 'returned', 'revelation', 'revenge', 'revolt', 'reward', 'rice', 'rich', 'riddance', 'ride', 'ridiculous', 'right', 'righthanded', 'ring', 'rings', 'rip', 'rising', 'risk', 'risks', 'river', 'road', 'roared', 'robot', 'rock', 'rocks', 'rode', 'roll', 'romans', 'romantic', 'rome', 'roof', 'room', 'rooms', 'roots', 'rope', 'rose', 'roses', 'rotates', 'roughly', 'round', 'rub', 'rubbish', 'rude', 'rule', 'run', 'rung', 'runner', 'running', 'runs', 'rush', 'russia', 's', 'sachiko', 'sacked', 'sad', 'safe', 'safely', 'said', 'sailor', 'sake', 'sale', 'salesman', 'salesperson', 'salt', 'sam', 'same', 'sang', 'sara', 'sasha', 'sashimi', 'sat', 'satan', 'satisfied', 'saturday', 'sauce', 'save', 'saved', 'saw', 'say', 'saying', 'sayoko', 'scale', 'scar', 'scare', 'scared', 'school', 'scientist', 'scold', 'scolded', 'scratched', 'scream', 'screw', 'scripts', 'sea', 'seagull', 'sean', 'seat', 'secret', 'secrets', 'see', 'seeing', 'seek', 'seem', 'seems', 'seen', 'seldom', 'sells', 'send', 'sense', 'sent', 'sentence', 'serious', 'seriously', 'served', 'set', 'seven', 'sexy', 'shadow', 'shake', 'shall', 'shame', 'shameful', 'shanghainese', 'shares', 'sharp', 'sharpwitted', 'shattered', 'shave', 'she', 'sheep', 'shelf', 'shes', 'shining', 'ship', 'shirt', 'shit', 'shizuoka', 'shoelaces', 'shoes', 'shook', 'shoot', 'shop', 'shopping', 'short', 'shortcut', 'shot', 'should', 'shouldnt', 'shout', 'show', 'showed', 'shower', 'shut', 'shy', 'sick', 'side', 'sight', 'sign', 'silence', 'silent', 'silly', 'simple', 'sin', 'since', 'sing', 'singapore', 'singer', 'singers', 'singing', 'single', 'sings', 'sir', 'sister', 'sit', 'six', 'size', 'skate', 'skating', 'ski', 'skiing', 'skin', 'skipped', 'sky', 'slapped', 'sleep', 'sleeping', 'sleepy', 'sleeve', 'slept', 'slim', 'slip', 'slipped', 'slow', 'slowly', 'small', 'smaller', 'smart', 'smell', 'smells', 'smiled', 'smiles', 'smiling', 'smith', 'smoke', 'smokes', 'smoking', 'smooth', 'snag', 'sneeze', 'snow', 'snowed', 'snowing', 'snows', 'so', 'soap', 'soccer', 'socks', 'sofa', 'sold', 'solve', 'some', 'somebody', 'someone', 'something', 'sometimes', 'son', 'song', 'sons', 'soon', 'sore', 'sorry', 'sort', 'sound', 'sounded', 'soundly', 'sounds', 'soup', 'sour', 'south', 'spanish', 'speak', 'speakest', 'speaking', 'speaks', 'special', 'speech', 'speechless', 'spent', 'spiders', 'spit', 'split', 'spoke', 'spoons', 'sport', 'sports', 'spot', 'spring', 'stacked', 'stairs', 'stamp', 'stand', 'standing', 'stared', 'stars', 'start', 'started', 'starting', 'startled', 'starts', 'starved', 'starving', 'state', 'stay', 'steal', 'step', 'steps', 'stern', 'stick', 'sticky', 'stiff', 'still', 'stinks', 'stir', 'stock', 'stole', 'stolen', 'stomach', 'stomachs', 'stones', 'stood', 'stools', 'stop', 'stopped', 'storm', 'stormy', 'story', 'straight', 'straighten', 'strange', 'street', 'strength', 'strong', 'struck', 'student', 'students', 'studied', 'studies', 'study', 'studying', 'stuff', 'stuffed', 'stunned', 'stupid', 'succeeded', 'such', 'suck', 'sucks', 'suddenly', 'sue', 'sugar', 'suit', 'suite', 'suits', 'summer', 'sun', 'sunday', 'sunflower', 'sunk', 'sunny', 'supply', 'suppose', 'sure', 'surgery', 'surprise', 'surprising', 'susan', 'sushi', 'swam', 'swear', 'sweep', 'sweet', 'sweets', 'swim', 'swimming', 'swims', 'swindled', 'swing', 'swiss', 'switch', 'symmetry', 'table', 'tailor', 'take', 'taken', 'takes', 'talented', 'talk', 'talking', 'talks', 'tall', 'taller', 'tallest', 'tame', 'tan', 'tap', 'tape', 'tasks', 'taste', 'tasted', 'tastes', 'tasty', 'tatoeba', 'taxi', 'tea', 'teach', 'teacher', 'teachers', 'teaches', 'team', 'tears', 'teaser', 'teen', 'teeth', 'television', 'tell', 'telling', 'tells', 'temper', 'ten', 'tennis', 'teochew', 'terrible', 'terribly', 'terrific', 'test', 'tests', 'thank', 'thanked', 'thanks', 'that', 'thatll', 'thats', 'the', 'their', 'them', 'then', 'there', 'theres', 'these', 'they', 'theyll', 'theyre', 'thick', 'thickheaded', 'thief', 'thin', 'things', 'think', 'thinks', 'thirsty', 'thirty', 'thirtyone', 'thirtythree', 'this', 'those', 'thou', 'thought', 'threaten', 'three', 'threw', 'throat', 'through', 'throw', 'thumbs', 'thunder', 'thus', 'thyself', 'ticket', 'tickled', 'tie', 'tied', 'tigers', 'tight', 'till', 'time', 'timer', 'timid', 'timmy', 'tiny', 'tire', 'tired', 'tires', 'to', 'today', 'toe', 'toes', 'toilet', 'tokyo', 'told', 'tom', 'tomatoes', 'tomorrow', 'toms', 'tongue', 'tonight', 'tony', 'tonys', 'too', 'took', 'tooth', 'toothache', 'top', 'touch', 'tough', 'tourist', 'towel', 'tower', 'town', 'toy', 'toyota', 'traffic', 'train', 'trains', 'traitor', 'translator', 'travel', 'traveling', 'treasure', 'treat', 'treble', 'tree', 'trespassing', 'tried', 'tries', 'trip', 'trips', 'trolling', 'trouble', 'true', 'truly', 'trumpet', 'trust', 'trusted', 'truth', 'try', 'tune', 'turkey', 'turn', 'turned', 'turner', 'tv', 'tvs', 'twenty', 'twice', 'twin', 'twisted', 'twitter', 'two', 'type', 'types', 'typist', 'ufo', 'ugly', 'ukraine', 'umbrella', 'unbelievable', 'uncle', 'unconscious', 'under', 'understand', 'understood', 'undressing', 'uneasy', 'unemployed', 'unfair', 'unhappy', 'unimportant', 'united', 'unity', 'universal', 'unlock', 'unlocked', 'unlucky', 'unmarried', 'unnecessary', 'unrealistic', 'unsociable', 'untidy', 'until', 'unusual', 'unwell', 'up', 'upon', 'upset', 'urgency', 'urgent', 'urine', 'us', 'use', 'used', 'using', 'usually', 'uyghur', 'vacation', 'valentine', 'vase', 'vegan', 'vegetarian', 'very', 'vice', 'video', 'violence', 'violin', 'virtue', 'visa', 'visit', 'visited', 'volume', 'vomit', 'vomited', 'vote', 'voted', 'voyage', 'wad', 'wait', 'waited', 'waiter', 'waiting', 'waits', 'wake', 'wakes', 'waking', 'walk', 'walked', 'walker', 'walks', 'wallet', 'walls', 'wang', 'wanker', 'want', 'wants', 'war', 'warm', 'warn', 'was', 'wash', 'washed', 'washes', 'washing', 'wasnt', 'waste', 'watch', 'watching', 'water', 'watermelon', 'waves', 'wax', 'way', 'we', 'weak', 'wear', 'wears', 'weather', 'weekly', 'weeks', 'weighs', 'weight', 'weird', 'welcome', 'well', 'went', 'wept', 'were', 'wet', 'weve', 'what', 'whatever', 'whatll', 'whatre', 'whats', 'wheat', 'wheel', 'when', 'where', 'wherere', 'wheres', 'which', 'whiff', 'while', 'whisky', 'white', 'who', 'whom', 'whore', 'whos', 'whose', 'why', 'wide', 'wife', 'will', 'willing', 'win', 'wind', 'window', 'windsurfing', 'windy', 'wine', 'wings', 'wink', 'winning', 'winter', 'wipe', 'wire', 'wires', 'wise', 'wish', 'witch', 'with', 'without', 'wizard', 'woe', 'woke', 'woman', 'womaniser', 'women', 'won', 'wonder', 'wonderful', 'wont', 'wood', 'woods', 'word', 'words', 'wore', 'work', 'worked', 'working', 'works', 'world', 'worm', 'worn', 'worries', 'worry', 'worst', 'worth', 'would', 'wow', 'wrench', 'wriggles', 'write', 'writer', 'writes', 'wrong', 'wrote', 'yamada', 'yasuda', 'yatarou', 'yawned', 'year', 'years', 'yell', 'yellow', 'yen', 'yes', 'yesterday', 'yet', 'yielded', 'yikes', 'ying', 'yo', 'yokohama', 'yolks', 'you', 'youd', 'youll', 'young', 'your', 'youre', 'yours', 'yourself', 'yourselves', 'youve', 'yukina', 'yum', 'zambia', 'zero', 'zip', 'zoo']\n",
            "Target word vocab ['<bof>', '<eos>', 'a', 'abandonna', 'abandonne', 'abandonnez', 'abandonné', 'abasourdi', 'abattu', 'abattue', 'abbott', 'abeilles', 'abhorrons', 'aboie', 'aboient', 'absent', 'absolument', 'absurde', 'accompagner', 'accordemoi', 'accordeznous', 'accourut', 'accoutumé', 'accro', 'accéléré', 'acheter', 'achetons', 'acheté', 'achetée', 'achète', 'achèterai', 'acide', 'acides', 'acquitté', 'actes', 'acteur', 'acteurs', 'action', 'active', 'actrices', 'actuellement', 'adieu', 'admire', 'adopté', 'adore', 'adoré', 'adresse', 'adultes', 'affaire', 'affaires', 'affamé', 'affamée', 'affreux', 'affrétâmes', 'affrété', 'affûtée', 'agir', 'agis', 'agissez', 'agit', 'agiter', 'agrandisle', 'agrandissezle', 'agressive', 'agréable', 'ah', 'ahmad', 'ai', 'aide', 'aidemoi', 'aider', 'aiderastu', 'aiderezvous', 'aidezmoi', 'aidé', 'aie', 'aije', 'ailes', 'ailles', 'ailleurs', 'aimable', 'aime', 'aiment', 'aimer', 'aimes', 'aimestu', 'aimetil', 'aimez', 'aimezvous', 'aimons', 'aimé', 'aimée', 'ainsi', 'air', 'ajoute', 'ajoutez', 'ajuste', 'album', 'alentours', 'alex', 'alice', 'alla', 'allah', 'allait', 'allemande', 'allen', 'aller', 'allez', 'allezvous', 'allezy', 'allo', 'allons', 'allonsnous', 'allonsnousen', 'allonsy', 'alluma', 'allume', 'allumele', 'allumette', 'allumé', 'allumée', 'allé', 'allée', 'allés', 'alors', 'ambitieux', 'ambulance', 'ami', 'amie', 'amies', 'amis', 'amour', 'amoureuse', 'amoureux', 'amusant', 'amusante', 'amusetoi', 'amusezvous', 'amusonsnous', 'amusé', 'amène', 'amènemoi', 'amèrement', 'amélioré', 'améliorée', 'américain', 'américaine', 'américains', 'ancien', 'andrea', 'ange', 'anges', 'anglais', 'animaux', 'anne', 'anniversaire', 'année', 'années', 'ans', 'anton', 'anémique', 'aoi', 'appareil', 'appareils', 'appartement', 'appartient', 'appartientil', 'apparue', 'apparut', 'appel', 'appela', 'appeler', 'appelez', 'appelezmoi', 'appelezvous', 'appelle', 'appellela', 'appellemoi', 'appellerai', 'appelé', 'appelée', 'applaudi', 'application', 'apporte', 'apportele', 'apportezle', 'apportezlemoi', 'apporté', 'apprend', 'apprends', 'appris', 'apprivoisemoi', 'approche', 'apprécie', 'apprêtées', 'apprêtés', 'appétit', 'après', 'arabe', 'arabes', 'araignées', 'arbre', 'ardemment', 'argent', 'argument', 'arme', 'armes', 'arriva', 'arrive', 'arrivent', 'arriver', 'arrives', 'arrivestu', 'arrivezvous', 'arriviste', 'arrivâmes', 'arrivé', 'arrivée', 'arrivés', 'arrière', 'arrondie', 'arrose', 'arrosez', 'arrêt', 'arrêta', 'arrête', 'arrêtetoi', 'arrêtez', 'arrêtonsnous', 'arrêté', 'art', 'artistes', 'as', 'asocial', 'aspirine', 'aspirons', 'asseoir', 'asseyezvous', 'assez', 'assiedstoi', 'assiettes', 'assis', 'assisterai', 'assoistoi', 'assoyezvous', 'astigmate', 'astu', 'atchoum', 'atelle', 'athée', 'atil', 'aton', 'attache', 'attaché', 'attaque', 'atteint', 'attendais', 'attendait', 'attendez', 'attendra', 'attendre', 'attends', 'attendsmoi', 'attendu', 'attention', 'attentivement', 'attirante', 'attirez', 'attrape', 'attrapele', 'attrapezle', 'attrapé', 'au', 'aucun', 'aucune', 'augmentent', 'augmenté', 'aujourdhui', 'auprès', 'auraije', 'aussi', 'australiennes', 'australiens', 'autant', 'auteur', 'auto', 'autour', 'autre', 'autrement', 'autres', 'autrichienne', 'autrui', 'aux', 'avaient', 'avais', 'avaisje', 'avait', 'avalé', 'avance', 'avancez', 'avant', 'avare', 'avarié', 'avec', 'avenir', 'aveugle', 'avez', 'avezvous', 'avion', 'avis', 'avoir', 'avons', 'avril', 'ayez', 'aère', 'aérez', 'bach', 'baclavas', 'baffe', 'bagage', 'bagnole', 'baignade', 'bail', 'bain', 'baissetoi', 'baissezvous', 'balaise', 'balance', 'balancer', 'balayer', 'balcon', 'balivernes', 'balle', 'balles', 'ballon', 'banane', 'bananes', 'bande', 'bandes', 'banque', 'banquier', 'baraka', 'barbe', 'barbier', 'barré', 'barrée', 'bas', 'baseball', 'basse', 'bateau', 'bats', 'batterie', 'battez', 'battra', 'battu', 'beau', 'beaucoup', 'beauté', 'beaux', 'belle', 'belles', 'ben', 'besoin', 'betty', 'bicyclette', 'bien', 'bientôt', 'bienveillants', 'bienvenue', 'bienvenus', 'bill', 'biologiste', 'bipèdes', 'bite', 'bizarre', 'bière', 'bières', 'blague', 'blaguer', 'blagues', 'blaireau', 'blanc', 'blanche', 'blancs', 'blessé', 'blessée', 'bleu', 'bleue', 'bleus', 'blog', 'blond', 'blondes', 'blonds', 'blé', 'bob', 'boire', 'bois', 'boisle', 'boisson', 'boit', 'bol', 'bon', 'bond', 'bondi', 'bonheur', 'bonjour', 'bonne', 'bons', 'bonsoir', 'bonté', 'bord', 'bordel', 'borné', 'bouche', 'bouffée', 'bouge', 'bouger', 'bougez', 'bougie', 'bouillir', 'boulanger', 'boulangerie', 'boulangère', 'boules', 'boulot', 'bourgmestre', 'bourré', 'bourrés', 'bouteille', 'bovins', 'boîte', 'branleur', 'bras', 'brassait', 'brave', 'bravo', 'brevet', 'brian', 'brillante', 'brille', 'brise', 'brisez', 'brisé', 'bronze', 'brosse', 'brossetoi', 'brossez', 'brouillard', 'broutes', 'bruit', 'bruns', 'brutalement', 'brutus', 'bruyamment', 'brève', 'brésil', 'brûlant', 'brûle', 'brûlent', 'brûler', 'brûlures', 'brûlé', 'bu', 'bureau', 'bus', 'but', 'buter', 'buvais', 'buvait', 'buvez', 'buvezle', 'bâilla', 'bâtard', 'bâti', 'bâtie', 'bâtiment', 'bébé', 'bénisse', 'bétail', 'bête', 'bêtises', 'bœuf', 'ca', 'caché', 'cadeau', 'cadeaux', 'cafard', 'café', 'caille', 'calme', 'calmes', 'calmetoi', 'calmezvous', 'calmé', 'camarade', 'camomille', 'camp', 'camping', 'canada', 'canadien', 'canapé', 'cancer', 'canné', 'canon', 'canoë', 'canular', 'capable', 'capot', 'capte', 'capté', 'car', 'caractère', 'carottes', 'carrossée', 'carte', 'cartes', 'cartouche', 'cas', 'casquette', 'cassecou', 'casser', 'cassetoi', 'cassette', 'cassé', 'cassée', 'cathy', 'catégoriquement', 'cauchemar', 'cause', 'caviar', 'cd', 'cds', 'ce', 'ceci', 'cecil', 'cela', 'celleci', 'cellesci', 'celui', 'celuici', 'cen', 'cendres', 'cercle', 'cerf', 'cerises', 'certain', 'certainement', 'certains', 'ces', 'cessa', 'cesse', 'cessé', 'cest', 'cet', 'cette', 'ceuxci', 'ceuxlà', 'chacun', 'chagrinée', 'chahuter', 'chaise', 'chambre', 'chameau', 'champ', 'chance', 'chanceux', 'change', 'changeais', 'changé', 'chanson', 'chantaient', 'chante', 'chantent', 'chanter', 'chanteratelle', 'chantes', 'chanteurs', 'chanteuse', 'chantez', 'chantons', 'chanté', 'chapeau', 'chaque', 'char', 'charger', 'chargerai', 'charme', 'charrie', 'charriez', 'chassaient', 'chasser', 'chat', 'chats', 'chatte', 'chaud', 'chaude', 'chauds', 'chaussettes', 'chaussures', 'chauvesouris', 'chavira', 'chaviré', 'chef', 'chemin', 'cheminé', 'chemise', 'cher', 'chercher', 'cherchestu', 'cherchezvous', 'cherchée', 'cheval', 'chevelure', 'cheveux', 'chez', 'chiant', 'chic', 'chicago', 'chichis', 'chien', 'chiens', 'chier', 'chimie', 'chine', 'chinois', 'chinoise', 'chocolat', 'choisis', 'choisissez', 'choisistu', 'choix', 'chope', 'chopin', 'chopé', 'chose', 'choses', 'chouette', 'chut', 'châtains', 'châteaux', 'chèque', 'chère', 'chèvres', 'chômage', 'cible', 'cicatrice', 'cidessous', 'cidessus', 'ciel', 'cigarettes', 'cinglé', 'cinq', 'cinéma', 'circulation', 'cire', 'cirez', 'citron', 'citrons', 'citrouille', 'clairement', 'claires', 'clamecé', 'claque', 'claquâmes', 'claqué', 'classe', 'clef', 'clefs', 'clin', 'cloche', 'clé', 'clés', 'coca', 'coffre', 'coffrefort', 'coin', 'collant', 'colle', 'collègue', 'colombie', 'colère', 'combat', 'combien', 'comestible', 'commande', 'commandé', 'comme', 'commence', 'commencer', 'commencetil', 'commencé', 'comment', 'commentaire', 'commença', 'commençons', 'commençâmes', 'commis', 'communisme', 'compare', 'compatis', 'complètement', 'comportetoi', 'comporté', 'comprend', 'comprends', 'comprendstu', 'comprenezvous', 'compris', 'compte', 'compter', 'comptez', 'compté', 'comédien', 'comédies', 'concocta', 'conducteur', 'conduire', 'conduis', 'conduisait', 'conduisez', 'conduistoi', 'conduit', 'confectionné', 'confessé', 'confiance', 'confortablement', 'congelée', 'congé', 'connais', 'connaissaistu', 'connaissait', 'connaissent', 'connaissez', 'connaissezvous', 'connaissiezvous', 'connaissons', 'connaistoi', 'connaistu', 'connait', 'connaitil', 'connard', 'connasse', 'connaît', 'connaîtelle', 'conneries', 'connu', 'conscience', 'conseil', 'conseilla', 'consoler', 'constipé', 'constitué', 'construit', 'construite', 'contact', 'contemen', 'content', 'contente', 'contentes', 'contents', 'continua', 'continuait', 'continue', 'continué', 'contractai', 'contracté', 'contrat', 'contre', 'contribue', 'convexe', 'convient', 'convientil', 'cool', 'copie', 'copiez', 'corbeau', 'corde', 'cordes', 'corps', 'correctement', 'correspond', 'corrige', 'corrigez', 'coréen', 'coréenne', 'costume', 'coucha', 'coucher', 'couché', 'coule', 'couleur', 'couloir', 'coup', 'coupable', 'coupe', 'coupele', 'coupure', 'coupé', 'coupée', 'courage', 'courageuse', 'courageuses', 'courageux', 'couraient', 'courais', 'courait', 'courant', 'coureur', 'coureuse', 'courez', 'couriez', 'courions', 'courir', 'couronne', 'cours', 'courses', 'court', 'courte', 'courts', 'couru', 'courut', 'courûmes', 'cousin', 'cousines', 'cousins', 'cousue', 'couteau', 'couvert', 'couvrefeu', 'couvrir', 'coïncidence', 'coûte', 'coûtera', 'coûteratil', 'cqfd', 'craché', 'craignaient', 'crains', 'craint', 'crampes', 'cravate', 'crayon', 'creuse', 'creusèrent', 'creusé', 'crever', 'crevé', 'crevée', 'cri', 'cria', 'crie', 'crier', 'crime', 'crocs', 'croire', 'crois', 'croismoi', 'croissent', 'croisèrent', 'croyant', 'croyezmoi', 'croyons', 'crâne', 'crève', 'crée', 'cube', 'cueilli', 'cuillers', 'cuire', 'cuis', 'cuisez', 'cuisine', 'cuisiner', 'cuisinier', 'cuisinière', 'cuisit', 'cuismoi', 'cuit', 'cul', 'culdesac', 'culot', 'culotté', 'cultive', 'cultivons', 'curieux', 'céda', 'céder', 'cédé', 'célibataire', 'célèbre', 'cétait', 'côte', 'côté', 'côtés', 'cœur', 'dabord', 'dabsents', 'daccord', 'dactylo', 'dactylographe', 'dada', 'daide', 'dalain', 'dalle', 'daller', 'daltonien', 'daltonienne', 'dame', 'dames', 'damies', 'damis', 'damour', 'damérique', 'dan', 'dana', 'danger', 'dangereux', 'dangleterre', 'danne', 'dans', 'danse', 'danser', 'dargent', 'darriver', 'darrêter', 'dartifice', 'dattaque', 'dattendre', 'daustralie', 'dautre', 'davance', 'davantage', 'david', 'davoir', 'de', 'deau', 'debout', 'dedans', 'degas', 'dehors', 'delle', 'demain', 'demanda', 'demande', 'demandemoi', 'demander', 'demandestu', 'demandez', 'demandonslui', 'demandé', 'demeure', 'demeurez', 'demi', 'demitour', 'demploi', 'denfant', 'denfants', 'dennemis', 'dennuis', 'densément', 'dent', 'dentendre', 'dentrain', 'dentrer', 'dents', 'dergoter', 'dernier', 'dernière', 'derreur', 'derrière', 'des', 'descendit', 'descendons', 'descendre', 'descends', 'descendu', 'dessayer', 'dessence', 'dessinemoi', 'dessiné', 'dessinée', 'dessinées', 'dessus', 'destomac', 'dette', 'deux', 'devant', 'devenu', 'devenue', 'devenues', 'devenus', 'devez', 'deviendra', 'deviens', 'devint', 'deviné', 'devoirs', 'devons', 'devrais', 'devraisje', 'devrait', 'devriez', 'devrions', 'devrionsnous', 'dexcuse', 'dhabitude', 'diable', 'diabétique', 'diarrhée', 'dici', 'dictionnaire', 'didiot', 'didées', 'dieu', 'dieux', 'difficile', 'dimanche', 'dimbécile', 'diminue', 'dimmondices', 'dinauguration', 'dingue', 'dira', 'dirai', 'diraistu', 'dirait', 'dirastu', 'dire', 'direzvous', 'diriezvous', 'dis', 'disait', 'discernement', 'disco', 'discours', 'disent', 'disle', 'dislui', 'dismen', 'dismoi', 'disney', 'disparais', 'disparu', 'disponible', 'disposait', 'dispose', 'disputées', 'disque', 'disques', 'distance', 'distances', 'distendu', 'distinctement', 'distraction', 'distribuenous', 'distribueznous', 'distu', 'dit', 'dites', 'ditesle', 'diteslui', 'ditesmoi', 'ditesvous', 'diton', 'divertissante', 'divine', 'divisé', 'divorcé', 'divorcée', 'dix', 'dixhuit', 'dixsept', 'diète', 'dj', 'docteur', 'docteurs', 'doigt', 'dois', 'doisje', 'doit', 'doitil', 'doivent', 'dollars', 'domicile', 'dommage', 'donc', 'donna', 'donne', 'donnelaleur', 'donneleleur', 'donnelelui', 'donneleslui', 'donnelui', 'donnemen', 'donnemoi', 'donnent', 'donnezlemoi', 'donnezlui', 'donnezmoi', 'donneznous', 'donnèrent', 'donné', 'dor', 'dormait', 'dormi', 'dormir', 'dormirai', 'dormit', 'dors', 'dort', 'dortil', 'dos', 'doseille', 'doté', 'double', 'douce', 'doucement', 'douche', 'douleur', 'douloureux', 'doute', 'doù', 'dramaturge', 'drame', 'drapeau', 'dressa', 'droit', 'droite', 'droitier', 'dru', 'drôle', 'du', 'dun', 'dune', 'dupa', 'dur', 'dure', 'dures', 'durgence', 'durs', 'dvd', 'dy', 'débarras', 'débordé', 'débrouiller', 'débrouilles', 'débrouillestu', 'débrouillezvous', 'débutante', 'décidé', 'décidée', 'décision', 'déclanché', 'déclenché', 'déconne', 'déconnez', 'décroche', 'décédé', 'défaut', 'défendu', 'défense', 'dégage', 'dégagez', 'dégagé', 'dégoté', 'dégueulasse', 'dégypte', 'déjeuner', 'déjà', 'délaissé', 'délaissée', 'délice', 'délicieuse', 'délicieux', 'démarre', 'démarrons', 'démissionne', 'démissionné', 'déménage', 'déménager', 'déménagé', 'dépasse', 'dépend', 'dépendons', 'déposé', 'dépourvu', 'déprimé', 'déprimée', 'dépêche', 'dépêcher', 'dépêchetoi', 'dépêchezvous', 'dépêchons', 'dépêchonsnous', 'dépêché', 'dérange', 'déranger', 'dérangez', 'dérangé', 'dérobèrent', 'dérobé', 'dérouletil', 'déréglée', 'dés', 'désagréable', 'désespéré', 'désespérée', 'déshabille', 'désigné', 'désobéis', 'désobéissezvous', 'désobéistu', 'désolé', 'désolée', 'désordre', 'désormais', 'détective', 'détendezvous', 'détendstoi', 'déteste', 'détestons', 'détesté', 'détient', 'détourna', 'détourné', 'détudier', 'dévalisé', 'déverrouille', 'déverrouillez', 'déverrouillé', 'déverser', 'dévêts', 'déçu', 'déçue', 'dêtre', 'dîner', 'dœil', 'eau', 'ecchymose', 'edgar', 'effondré', 'effort', 'eh', 'elle', 'elles', 'embarrassant', 'embarrassé', 'embouti', 'embrassemoi', 'embrasser', 'embrassezmoi', 'emi', 'emmenezmoi', 'emmerde', 'emmène', 'emmènemoi', 'emploi', 'emploie', 'employé', 'employée', 'emporter', 'empâté', 'empêcher', 'en', 'enceint', 'enceinte', 'enchaîné', 'encombre', 'encore', 'encre', 'enculé', 'endetté', 'endormi', 'endormie', 'endosse', 'endroit', 'enfant', 'enfants', 'enfer', 'enfile', 'enfilez', 'enfin', 'enfonce', 'enfoncez', 'enfourche', 'enfourchez', 'enfreint', 'engagé', 'enivré', 'enlacée', 'enlève', 'ennui', 'ennuis', 'ennuyeuse', 'enregistrez', 'enrhumé', 'enseignant', 'enseignante', 'enseignantes', 'enseignants', 'enseigne', 'enseignes', 'enseignez', 'ensoleillé', 'entendit', 'entendre', 'entendu', 'entendue', 'enterrerons', 'entorse', 'entre', 'entrer', 'entrez', 'entrée', 'enveloppe', 'envers', 'envie', 'environ', 'envoiele', 'envoiemoi', 'envolé', 'envoyezmoi', 'envoyé', 'erreur', 'erreurs', 'es', 'escaliers', 'escroquée', 'espacées', 'espagnol', 'espoir', 'espèce', 'espèces', 'espère', 'essai', 'essaie', 'essaiela', 'essaiele', 'essaye', 'essayer', 'essayez', 'essayons', 'essayonsla', 'essayonsle', 'essayé', 'essuie', 'essuyez', 'est', 'estce', 'estelle', 'estil', 'estomac', 'estu', 'et', 'eu', 'euros', 'eurêka', 'eut', 'eux', 'exact', 'exactement', 'examen', 'examens', 'excellent', 'excentrique', 'excitée', 'exclu', 'exclue', 'excursion', 'excuse', 'excusemoi', 'excuses', 'excusez', 'excusezmoi', 'excusé', 'excusée', 'exemple', 'existe', 'existent', 'expliquez', 'exprès', 'extra', 'extraverti', 'exténué', 'fabriquerastu', 'fabriqué', 'fabuleux', 'face', 'facile', 'facilement', 'faible', 'faillite', 'faim', 'fainéant', 'faire', 'fais', 'faisaistu', 'faisait', 'faisan', 'faisla', 'faisle', 'faismoi', 'faisons', 'faisonsle', 'faistoi', 'faistu', 'fait', 'faite', 'faitelle', 'faites', 'faitesla', 'faitesle', 'faiteslemoi', 'faitesvous', 'faitil', 'faits', 'famille', 'fan', 'fantastique', 'fantômes', 'farshad', 'fatigue', 'fatigué', 'fatiguée', 'fatiguées', 'fatigués', 'fauché', 'faut', 'faute', 'fautif', 'faux', 'faveur', 'façons', 'femme', 'femmelà', 'femmes', 'fend', 'fenêtre', 'fer', 'fera', 'ferai', 'ferais', 'ferastu', 'ferezvous', 'feriez', 'ferma', 'ferme', 'fermela', 'fermele', 'fermez', 'fermé', 'fesses', 'feu', 'feuilles', 'feux', 'fichemoi', 'fichezmoi', 'fidèles', 'fie', 'fier', 'fiezvous', 'fila', 'filai', 'filele', 'filet', 'fille', 'filles', 'film', 'films', 'fils', 'filé', 'fin', 'finalement', 'fine', 'fini', 'finie', 'finir', 'finis', 'finit', 'finitil', 'firefox', 'firent', 'fit', 'fixa', 'fixé', 'fixée', 'fiça', 'fièvre', 'fiévreuse', 'fiévreux', 'flambant', 'flambâmes', 'fleurissent', 'fleurs', 'flexible', 'flexibles', 'flinguer', 'foins', 'fois', 'folie', 'folle', 'folles', 'fonctionne', 'fonctionnetil', 'fond', 'fondu', 'fondue', 'font', 'foot', 'football', 'force', 'forces', 'forcé', 'ford', 'forme', 'formidable', 'formulaire', 'fort', 'fortement', 'forteresse', 'fou', 'fourbu', 'fourbue', 'fourché', 'fournismoi', 'fournissezmoi', 'fourvoyé', 'fous', 'fousmoi', 'foutaises', 'foutre', 'foutrement', 'foutu', 'foutus', 'foyer', 'frais', 'france', 'franchement', 'français', 'française', 'frappe', 'frappez', 'fred', 'freins', 'fric', 'froid', 'froide', 'fromage', 'frotta', 'fruit', 'fruits', 'frère', 'frères', 'fréquemment', 'fuit', 'fume', 'fumer', 'fumes', 'fumestu', 'fumez', 'fumezvous', 'fumée', 'fus', 'fusible', 'fut', 'futon', 'fâche', 'fâché', 'fâchée', 'félicitations', 'félicité', 'fête', 'fêtes', 'gage', 'gagne', 'gagner', 'gagné', 'gamin', 'gamins', 'garde', 'gardele', 'garder', 'gardez', 'gardé', 'garer', 'garçon', 'garçons', 'gauche', 'gaucher', 'gave', 'gavé', 'gay', 'gaz', 'gelé', 'gelée', 'genoux', 'genre', 'gens', 'gentil', 'gentille', 'gentilles', 'gentils', 'gentiment', 'gentleman', 'gerber', 'gibier', 'gifla', 'giflée', 'glace', 'glacial', 'gloire', 'gobé', 'golf', 'gorge', 'gosse', 'gourmand', 'goût', 'goûtait', 'goûts', 'gracieuse', 'grains', 'grammaire', 'grand', 'grande', 'grandes', 'grandi', 'grands', 'gras', 'gratte', 'gratuit', 'gratuite', 'gratuitement', 'grave', 'gravement', 'griffé', 'grippe', 'gris', 'grises', 'gronda', 'grondait', 'gronderai', 'grondée', 'gros', 'grosse', 'grosses', 'grossier', 'grossis', 'grouille', 'groupe', 'grâce', 'grêle', 'guerre', 'gueule', 'guitare', 'guère', 'guérissezmoi', 'gâteau', 'gâteauci', 'gâteaux', 'génial', 'génie', 'gênez', 'habillezvous', 'habitaientils', 'habite', 'habitentelles', 'habitentils', 'habites', 'habitestu', 'habitetil', 'habitez', 'habitezvous', 'habitué', 'habituée', 'habité', 'haine', 'hait', 'haleine', 'halloween', 'hamlet', 'harry', 'hase', 'haut', 'hautes', 'hauteur', 'haïssaient', 'haïssait', 'helvète', 'henri', 'henry', 'heure', 'heures', 'heureuse', 'heureuses', 'heureux', 'hey', 'hic', 'hideux', 'hier', 'hisashi', 'hissé', 'histoire', 'hitomi', 'homme', 'hommes', 'homosexuel', 'honneur', 'honnête', 'honte', 'honteux', 'hopkins', 'hoquet', 'horreur', 'hors', 'huile', 'huilé', 'huit', 'humain', 'humaine', 'humains', 'humeur', 'hunter', 'hyogo', 'hyperactive', 'hâtetoi', 'hâtezvous', 'hé', 'hémorroïdes', 'héros', 'héroïque', 'hôpital', 'ici', 'idiot', 'idiotie', 'idée', 'il', 'illusion', 'ils', 'imbécile', 'imitateur', 'immédiatement', 'impasse', 'importance', 'important', 'importe', 'importetil', 'impossible', 'impressionné', 'imprudent', 'impudence', 'incliné', 'inclinée', 'inclus', 'incomplet', 'inconscient', 'inconsciente', 'incontrôlable', 'incorrigible', 'incroyable', 'indice', 'infirmière', 'influent', 'informé', 'ingo', 'ingénieur', 'inhabituel', 'injuste', 'inquiétez', 'insatiablement', 'insectes', 'insolence', 'instant', 'instituteur', 'intelligent', 'intelligente', 'intention', 'interdit', 'interdite', 'interdits', 'interrompre', 'intime', 'intrigant', 'introverti', 'intéressant', 'invisible', 'invite', 'invité', 'ira', 'irastu', 'irezvous', 'ironsnous', 'irrités', 'irréaliste', 'ishmael', 'italie', 'italien', 'italienne', 'ivo', 'ivre', 'jabandonne', 'jabhorre', 'jaccepte', 'jachète', 'jachèterai', 'jack', 'jacques', 'jadmets', 'jadorais', 'jadore', 'jai', 'jaie', 'jaimais', 'jaime', 'jaimerais', 'jallai', 'jallais', 'jamais', 'jambe', 'jambes', 'jane', 'japon', 'japonais', 'japonaises', 'japporterai', 'japprécie', 'jarrive', 'jarriverai', 'jarrête', 'jattrape', 'jaune', 'jaunes', 'jaurais', 'javais', 'jazz', 'je', 'jean', 'jeanne', 'jeans', 'jemprunte', 'jen', 'jenseigne', 'jentends', 'jespère', 'jessaierai', 'jessaye', 'jeta', 'jetez', 'jetonsy', 'jette', 'jeu', 'jeune', 'jeunes', 'jeus', 'jeux', 'jhabite', 'jhallucine', 'jim', 'jimmy', 'jirai', 'jirais', 'jiro', 'joe', 'jogging', 'john', 'joie', 'joignezvous', 'joindrastu', 'joindre', 'joindrezvous', 'joinstu', 'joker', 'joli', 'jolie', 'jorge', 'jouais', 'joue', 'jouela', 'jouemoi', 'jouer', 'joues', 'jouestu', 'jouet', 'jouez', 'jouis', 'jouons', 'jour', 'journal', 'journaliste', 'journée', 'jours', 'joué', 'joyeuse', 'joyeuses', 'joyeux', 'judy', 'jugement', 'jugeotte', 'jumelle', 'jure', 'jury', 'jusque', 'jusquelà', 'jusquà', 'juste', 'justement', 'justice', 'jutilise', 'jy', 'jéchoue', 'jécoute', 'jécris', 'jélève', 'jésus', 'jétais', 'jéternue', 'jétudie', 'jôte', 'kakogawa', 'karaoké', 'karin', 'karine', 'kate', 'kawaguchi', 'keiko', 'ken', 'kenji', 'kerry', 'kevin', 'kifkif', 'kiki', 'kilos', 'kobe', 'kobé', 'kyoto', 'kyôto', 'la', 'laboure', 'lac', 'lacets', 'lacide', 'laddition', 'lado', 'ladore', 'ladresse', 'laffaire', 'lai', 'laid', 'laide', 'laider', 'laije', 'laimais', 'laimait', 'laime', 'laimes', 'laimons', 'lair', 'laise', 'laissa', 'laisse', 'laissela', 'laissele', 'laissemoi', 'laissenous', 'laissez', 'laissezla', 'laissezle', 'laissezmoi', 'laissèrent', 'laissé', 'laissée', 'lait', 'laitier', 'lalarme', 'lambition', 'lami', 'lamour', 'langlais', 'langue', 'langues', 'lança', 'lappeler', 'lappelle', 'lappellent', 'lappellerai', 'lappelons', 'lapprécie', 'lapprécions', 'laquelle', 'larabe', 'larbre', 'large', 'largent', 'largeur', 'larmes', 'larnaque', 'larrête', 'larrêtez', 'lart', 'las', 'lasagnes', 'lasses', 'lastrologie', 'lastu', 'latin', 'latteindre', 'laube', 'lautomne', 'lautoroute', 'lautre', 'lavait', 'lave', 'lavenir', 'laventure', 'laver', 'lavertirai', 'lavetoi', 'lavez', 'lavezvous', 'lavoir', 'lavons', 'lavé', 'lavée', 'laîné', 'le', 'leau', 'lecture', 'lemporte', 'lemporter', 'lencre', 'lenfant', 'lenlaça', 'lennui', 'lentement', 'lentendis', 'lentendre', 'lentends', 'lentrée', 'lenvie', 'lequel', 'lerreur', 'les', 'lesprit', 'lespère', 'lessayer', 'lest', 'lestomac', 'lettre', 'leur', 'leurs', 'leva', 'lever', 'levez', 'levezvous', 'levonsnous', 'levâmes', 'levé', 'levée', 'lexamen', 'lexcuser', 'leçon', 'lhabitude', 'lherbe', 'lheure', 'lhistoire', 'lhiver', 'lhomme', 'lhorloge', 'lhumanité', 'lhôpital', 'li', 'libre', 'licencié', 'lidiot', 'lidée', 'lieu', 'ligne', 'lignorais', 'lignorance', 'lignore', 'limbécile', 'lin', 'linde', 'linterrupteur', 'lintérieur', 'lion', 'liquide', 'lirai', 'lire', 'lis', 'lise', 'lisez', 'lisle', 'lit', 'livide', 'livre', 'livreci', 'livres', 'livret', 'lobjectif', 'lobligèrent', 'locéan', 'loi', 'loin', 'loiseau', 'londres', 'long', 'longs', 'longtemps', 'longue', 'longues', 'lont', 'lor', 'lordinateur', 'lot', 'loterie', 'loublier', 'louer', 'loup', 'louper', 'loupé', 'lourd', 'lourde', 'lourdes', 'lourds', 'louâmes', 'louïghour', 'lubrifie', 'lubrifié', 'ludwig', 'lui', 'luimême', 'luis', 'lukraine', 'lumière', 'lumières', 'lun', 'lundi', 'lundis', 'lunettes', 'lunion', 'lunité', 'lurticaire', 'lutilise', 'lynn', 'là', 'làbas', 'làdedans', 'làdevant', 'lâche', 'lâchele', 'lâchemoi', 'lâches', 'lâchetoi', 'lâchez', 'lâchezle', 'lâchezmoi', 'lève', 'lèvestu', 'lèvetoi', 'lécart', 'lécole', 'léconomie', 'lécrire', 'lélectricité', 'lépousa', 'lépouse', 'léquipe', 'létat', 'létranger', 'lété', 'léventail', 'lœuvre', 'm', 'ma', 'mabandonne', 'mac', 'madame', 'mademoiselle', 'magace', 'magasin', 'magnetoi', 'magnifique', 'mahjong', 'maida', 'maide', 'maider', 'maides', 'maigris', 'maiment', 'maimes', 'maimestu', 'maimez', 'maimezvous', 'main', 'mains', 'maintenant', 'maintiendrai', 'maire', 'mais', 'maison', 'mal', 'malade', 'maladroit', 'maladroite', 'malchanceux', 'malheur', 'malheureuse', 'malheureux', 'malin', 'maline', 'maman', 'mammifère', 'mamuses', 'manche', 'manches', 'mangas', 'mange', 'mangea', 'mangent', 'mangeons', 'manger', 'mangerai', 'mangestu', 'mangeur', 'mangez', 'mangezvous', 'mangé', 'manigancetil', 'manière', 'manières', 'manne', 'manquaient', 'manque', 'manquent', 'manquer', 'manques', 'manquetil', 'manquez', 'manquons', 'manquèrent', 'manqué', 'manteau', 'maperçut', 'mappartient', 'mappelle', 'mappellent', 'mapprendre', 'marchai', 'marchait', 'marchand', 'marche', 'marcher', 'marchera', 'marches', 'marcheur', 'marchez', 'marché', 'marie', 'marin', 'marié', 'mariée', 'mariés', 'marnaque', 'marques', 'marrant', 'marre', 'marron', 'marrées', 'marrés', 'marrêter', 'marteau', 'mary', 'mas', 'masseoir', 'massif', 'massifs', 'massis', 'massive', 'massives', 'mat', 'match', 'maternisé', 'maths', 'mathématiques', 'matinal', 'matinale', 'mattendez', 'mauvais', 'mauvaise', 'mavez', 'mavoir', 'max', 'maître', 'me', 'mec', 'meg', 'meilleur', 'meilleure', 'melons', 'membre', 'membrouille', 'membêter', 'men', 'mena', 'menace', 'menacez', 'mennuie', 'mennuyer', 'mens', 'mensonge', 'mensonges', 'ment', 'mentendezvous', 'mentends', 'mentendstu', 'mentez', 'menti', 'mentionna', 'mentionné', 'mentionnée', 'mentir', 'mentit', 'menu', 'mer', 'merci', 'mercis', 'merde', 'merveilleux', 'mes', 'message', 'mest', 'mesurestu', 'met', 'mets', 'metsle', 'metstoi', 'mettez', 'mettezvous', 'mettonsnous', 'meurs', 'meurt', 'meut', 'mexcuser', 'mexcusera', 'mhabiller', 'miam', 'miaulent', 'midi', 'miel', 'mien', 'mienne', 'mieux', 'mignon', 'mignonne', 'mignons', 'migraine', 'miho', 'mijotes', 'mijotez', 'mike', 'milan', 'mile', 'miles', 'mille', 'mimportune', 'minable', 'mince', 'minclinai', 'mineurs', 'minuit', 'minute', 'miroir', 'mis', 'mise', 'mit', 'moccuper', 'mode', 'moi', 'moimême', 'moindre', 'moins', 'mois', 'moisi', 'moitié', 'moment', 'momentlà', 'mon', 'monde', 'monnaie', 'monsieur', 'mont', 'monte', 'monter', 'montez', 'montra', 'montre', 'montrelesmoi', 'montremoi', 'montrer', 'montres', 'montrezlamoi', 'montrezlemoi', 'montrezmoi', 'montrée', 'montèrent', 'monté', 'montée', 'moque', 'moquée', 'morceaux', 'mord', 'mordil', 'mort', 'morte', 'mortel', 'morts', 'mot', 'moteur', 'mots', 'motus', 'mouette', 'mouillée', 'mouillés', 'mouise', 'mourant', 'mourir', 'mourrai', 'mourut', 'mouton', 'moyens', 'muiriel', 'murs', 'muscle', 'musique', 'musée', 'muté', 'my', 'mène', 'mère', 'mères', 'méchant', 'méchappai', 'méchappe', 'méchapper', 'médecin', 'médecins', 'mélange', 'mémoire', 'mémorisele', 'ménage', 'ménerves', 'mépouser', 'méprisait', 'métal', 'métier', 'mévite', 'mévoque', 'mêle', 'mêlez', 'même', 'na', 'nabandonne', 'nagasaki', 'nage', 'nageaient', 'nager', 'nageâmes', 'nagé', 'nai', 'naie', 'naije', 'naime', 'naimons', 'nallezvous', 'nancy', 'narrive', 'narrivera', 'nas', 'nash', 'nastu', 'natto', 'naturellement', 'navait', 'navez', 'navezvous', 'navire', 'navons', 'nayez', 'ne', 'neige', 'neiger', 'neigeratil', 'neigé', 'nen', 'nentends', 'nentre', 'nentrez', 'nespère', 'nessaie', 'nest', 'nestce', 'nestelle', 'nestu', 'nettoie', 'nettoyer', 'nettoyez', 'neuf', 'neufs', 'neuve', 'neuves', 'neveu', 'nez', 'nhabite', 'ni', 'nimporte', 'nique', 'nira', 'nièces', 'nobuyuki', 'noir', 'nom', 'nommeton', 'non', 'nord', 'normal', 'nos', 'note', 'notre', 'noublie', 'noubliez', 'noue', 'nouilles', 'nourris', 'nourrissez', 'nourrisson', 'nourriture', 'nous', 'nouveau', 'nouveaux', 'nouvel', 'nouvelle', 'nouvelles', 'novice', 'noya', 'noyé', 'noyée', 'noyées', 'noyés', 'noël', 'nu', 'nuageuse', 'nuageux', 'nuire', 'nuit', 'nul', 'numéro', 'ny', 'né', 'nécessaire', 'nécoute', 'nécris', 'née', 'nées', 'nés', 'nétais', 'nétait', 'nêtes', 'nêtesvous', 'nôtres', 'obstinée', 'obéir', 'occuper', 'occupé', 'occupée', 'occupées', 'occupés', 'odeur', 'oh', 'oiseau', 'oiseaux', 'ok', 'omnivore', 'on', 'oncle', 'ongles', 'ont', 'ontils', 'opinion', 'oppose', 'opposé', 'opération', 'orageux', 'orange', 'oranges', 'ordinateur', 'ordre', 'oreille', 'oreiller', 'oreilles', 'orteils', 'osaka', 'osé', 'otite', 'ou', 'ouais', 'oublie', 'oubliela', 'oubliele', 'oubliez', 'oubliezla', 'oubliezle', 'oublié', 'oui', 'ouille', 'ouvert', 'ouverte', 'ouvrage', 'ouvre', 'ouvremoi', 'ouvretil', 'ouvrez', 'ouvrir', 'ouvrit', 'ouïe', 'ovni', 'où', 'page', 'pagode', 'paie', 'paierai', 'paille', 'pain', 'paix', 'panade', 'panne', 'pantalon', 'papa', 'pape', 'papier', 'par', 'parais', 'paraissait', 'parallèle', 'parapluie', 'paraît', 'parc', 'pardessus', 'pardi', 'pardon', 'pardonnemoi', 'pardonner', 'pardonnezmoi', 'parents', 'paresseux', 'parfait', 'parfois', 'parie', 'paris', 'parlait', 'parlant', 'parle', 'parlemoi', 'parler', 'parles', 'parlestu', 'parlez', 'parlezmoi', 'parlezvous', 'parlons', 'parmi', 'parole', 'pars', 'parstu', 'part', 'partage', 'partez', 'partezvous', 'parti', 'partie', 'partiez', 'partir', 'partira', 'partis', 'partit', 'partons', 'partout', 'partîmes', 'parue', 'parut', 'parvenir', 'parviens', 'pas', 'passe', 'passemoi', 'passeport', 'passer', 'passetemps', 'passetil', 'passez', 'passezmoi', 'passionnant', 'passèrent', 'passé', 'passée', 'passés', 'pastèque', 'patates', 'patience', 'patient', 'patiente', 'patienter', 'patin', 'patine', 'patiner', 'patrie', 'patron', 'pattes', 'paul', 'pause', 'pauvre', 'paye', 'payer', 'pays', 'payé', 'peau', 'peindre', 'peindrons', 'peine', 'peintre', 'peinture', 'pelouse', 'pendant', 'pendu', 'pendule', 'pensais', 'pense', 'penseriezvous', 'penses', 'pensestu', 'pensesy', 'pensez', 'pensezvous', 'pensezy', 'pensionné', 'pensionnée', 'pensé', 'pensée', 'perdant', 'perdez', 'perdis', 'perdit', 'perdrai', 'perdre', 'perds', 'perdu', 'perdue', 'perdues', 'perdus', 'perdîmes', 'permetsmoi', 'permetstu', 'permettezmoi', 'permettezvous', 'personnage', 'personne', 'personnes', 'perte', 'pete', 'petit', 'petitdéjeuner', 'petite', 'petits', 'peu', 'peuplée', 'peur', 'peut', 'peutil', 'peutêtre', 'peuvent', 'peux', 'peuxtu', 'photo', 'photogénique', 'phrase', 'physicien', 'phénomène', 'pianiste', 'piano', 'picasso', 'pied', 'pieds', 'pierre', 'pierres', 'pigé', 'pilotes', 'pinailler', 'pinceaux', 'pipeau', 'piqué', 'pire', 'pis', 'pitié', 'pièce', 'piètre', 'place', 'plaide', 'plaie', 'plaignez', 'plains', 'plainte', 'plaira', 'plais', 'plaisait', 'plaisante', 'plaisanterie', 'plaisantes', 'plaisantestu', 'plaisantez', 'plaisantezvous', 'plaisent', 'plaisez', 'plaisir', 'plait', 'plaitil', 'plan', 'planche', 'plancher', 'plantes', 'planète', 'plat', 'plats', 'plaît', 'plaîtil', 'plein', 'pleine', 'pleins', 'pleura', 'pleurait', 'pleure', 'pleurer', 'pleurestu', 'pleurons', 'pleuré', 'pleut', 'pleuvait', 'pleuve', 'pleuvoir', 'pleuvratil', 'plie', 'plier', 'plomb', 'plu', 'pluie', 'plus', 'plut', 'plutôt', 'pluvieux', 'pneu', 'poches', 'pochi', 'poids', 'poisse', 'poisson', 'poissonnier', 'poli', 'police', 'policier', 'polie', 'poliment', 'polis', 'politique', 'pomme', 'pommes', 'ponctuel', 'pop', 'populaire', 'portait', 'porte', 'portefeuille', 'porter', 'portetelle', 'portez', 'porté', 'posele', 'poses', 'posez', 'possible', 'possède', 'possédezvous', 'postale', 'poste', 'postez', 'postérieur', 'pote', 'poto', 'poulet', 'pouls', 'poupée', 'pour', 'pourquoi', 'pourrais', 'pourraisje', 'pourraistu', 'pourrait', 'pourriezvous', 'poursuis', 'poursuivis', 'pourtant', 'poussent', 'pousser', 'poussière', 'pouvais', 'pouvez', 'pouvezvous', 'pouvoir', 'pouvons', 'pouvonsnous', 'poèmes', 'poète', 'poêle', 'pratique', 'premier', 'premiers', 'première', 'prenante', 'prend', 'prendre', 'prends', 'prendsen', 'prendsle', 'prenez', 'prenezen', 'prenons', 'presque', 'presser', 'pressetoi', 'pressezvous', 'pressé', 'pressée', 'pressés', 'prie', 'princesse', 'principal', 'printemps', 'pris', 'prisonnier', 'prit', 'prix', 'problème', 'problèmes', 'prochaine', 'proches', 'procès', 'prof', 'professeur', 'professeurs', 'profond', 'profondeur', 'profondément', 'promenade', 'promener', 'promené', 'promenée', 'promue', 'promènetoi', 'proposition', 'propre', 'protège', 'prouver', 'proximité', 'prudemment', 'prudence', 'prudent', 'prudente', 'près', 'préfère', 'prénom', 'préoccupe', 'prépara', 'prépare', 'préparer', 'préparestu', 'préparetoi', 'préparezvous', 'préparé', 'présent', 'présenta', 'présentes', 'présents', 'prévaut', 'prêt', 'prête', 'prêtes', 'prêts', 'prêté', 'ps', 'pu', 'pue', 'puis', 'puisje', 'puisque', 'puisquelle', 'puisquelles', 'puisquil', 'puisquils', 'puissance', 'puissant', 'puissestu', 'puissetil', 'puits', 'pur', 'pure', 'putain', 'pyjama', 'pâle', 'pâles', 'pâques', 'pâtes', 'pèle', 'père', 'pèse', 'pécher', 'péché', 'pédé', 'pépère', 'péter', 'pétrin', 'pété', 'pêcher', 'quaije', 'quaimestu', 'quand', 'quapprendstu', 'quapprenezvous', 'quappréciestu', 'quarantaine', 'quarante', 'quasiment', 'quastu', 'quatelle', 'quatil', 'quatre', 'quattendezvous', 'quattendre', 'quavezvous', 'que', 'quel', 'quelle', 'quelles', 'quelque', 'quelques', 'quelquesuns', 'quelquun', 'quen', 'quest', 'questce', 'question', 'questu', 'quheureux', 'qui', 'quiconque', 'quil', 'quimporte', 'quittance', 'quitte', 'quittes', 'quittez', 'quoi', 'quon', 'quun', 'quune', 'quy', 'quémandé', 'quêtesvous', 'raccourci', 'raccrocha', 'raccroché', 'racines', 'racontemoi', 'radio', 'radote', 'radotez', 'rafraîchi', 'rage', 'raisin', 'raison', 'ramassele', 'rampe', 'ramènemoi', 'raoul', 'rap', 'rapide', 'rapidement', 'rappelez', 'rappelezvous', 'rappelle', 'rappellemoi', 'rappellerai', 'rappelles', 'rappellestu', 'raquette', 'raquettes', 'rarement', 'ras', 'rasage', 'raser', 'raslebol', 'rassasié', 'rate', 'rater', 'rattrapele', 'raté', 'ravie', 'rb', 'reconnais', 'recrache', 'recule', 'reculer', 'redismoi', 'reditesmoi', 'redresser', 'redressetoi', 'refaisle', 'refaitesle', 'reformuler', 'refuse', 'refusé', 'regard', 'regarda', 'regardai', 'regarde', 'regardemoi', 'regarder', 'regardez', 'regardezmoi', 'regardons', 'regards', 'regardé', 'regretter', 'reine', 'relativement', 'relaxe', 'religieux', 'remarqué', 'remboursement', 'rembourser', 'remercie', 'remerciez', 'remets', 'remit', 'remplacer', 'rempli', 'remplissez', 'remplissezle', 'remplumé', 'renard', 'renards', 'rencontrai', 'rencontre', 'rencontrer', 'rencontrerastu', 'rencontreronsnous', 'rencontré', 'rencontrée', 'rend', 'rendez', 'rendezla', 'rendezle', 'rendirent', 'rendit', 'rendonsnous', 'rendonsnousy', 'rendrai', 'rendre', 'rends', 'rendsla', 'rendsle', 'rendu', 'rendue', 'rentra', 'rentre', 'rentrer', 'rentrerai', 'rentrez', 'rentrons', 'rentré', 'rentrée', 'renverse', 'repas', 'repliez', 'repose', 'reposer', 'reposetoi', 'reposezvous', 'reposonsnous', 'repoussé', 'reprends', 'reproche', 'reptiles', 'repu', 'respectent', 'respectetoi', 'respectezvous', 'respiration', 'respiretil', 'respiré', 'responsable', 'responsables', 'ressemble', 'ressens', 'reste', 'rester', 'resterai', 'restetil', 'restez', 'restons', 'restâmes', 'resté', 'retard', 'retarde', 'retenez', 'retenu', 'retiens', 'retint', 'retire', 'retirez', 'retour', 'retourna', 'retournons', 'retraité', 'retraitée', 'revanche', 'revenez', 'revenir', 'revenu', 'revenue', 'reviendra', 'reviendrai', 'reviens', 'revigoré', 'revoilà', 'revoir', 'revoyure', 'revue', 'reçu', 'rhume', 'ri', 'riait', 'riche', 'riches', 'rideau', 'ridicule', 'rien', 'riez', 'rigolait', 'rigole', 'rigolo', 'rire', 'ris', 'risque', 'risques', 'rit', 'rivière', 'riz', 'robinet', 'robot', 'rock', 'roi', 'romains', 'roman', 'romantique', 'rome', 'rompu', 'ronchonner', 'ronde', 'rondes', 'ronronnentils', 'roses', 'roue', 'rouge', 'rouges', 'rougis', 'rougit', 'roule', 'route', 'routière', 'rue', 'ruiné', 'russie', 'râler', 'règle', 'règles', 'réaliste', 'réalisé', 'réalisés', 'réfléchir', 'régime', 'réglais', 'régler', 'répara', 'réparer', 'réplique', 'répondez', 'répondezmoi', 'répondis', 'répondit', 'répondre', 'réponds', 'répondsmoi', 'répondu', 'réponse', 'réputation', 'répète', 'répéter', 'répétez', 'réservé', 'résidence', 'résidestu', 'résister', 'résolvez', 'résous', 'réunion', 'réussi', 'réveil', 'réveilla', 'réveillait', 'réveille', 'réveiller', 'réveilletoi', 'réveillezmoi', 'réveillezvous', 'réveillé', 'réveillée', 'révolte', 'révéla', 'révélation', 'révélé', 'rêve', 'rêver', 'rêves', 'rêvé', 'rôle', 'sa', 'sabattit', 'sabordé', 'sac', 'sache', 'sachiko', 'sacré', 'sage', 'sagit', 'sagitil', 'saignait', 'saigne', 'sais', 'saisi', 'saistu', 'sait', 'salaces', 'sale', 'salle', 'salope', 'salut', 'sam', 'samedi', 'sang', 'sans', 'santé', 'saoul', 'saper', 'sappelletil', 'sara', 'sarrêta', 'sasha', 'sashimi', 'sassit', 'sassombrirent', 'sassécha', 'satan', 'satisfait', 'satisfaite', 'sauce', 'sauf', 'saura', 'sauraisje', 'sauta', 'saute', 'sauter', 'sautez', 'sauté', 'sauve', 'sauvé', 'sauvée', 'savais', 'savait', 'savent', 'savez', 'savezvous', 'savoir', 'savon', 'sayoko', 'scientifique', 'scénarios', 'se', 'sean', 'sec', 'secouais', 'secours', 'secoué', 'secret', 'secrets', 'sefforce', 'seigneur', 'sel', 'selles', 'selon', 'semaine', 'semaines', 'semblables', 'semblait', 'semblant', 'semble', 'semblent', 'sembles', 'semblez', 'sen', 'senfuit', 'senivra', 'sens', 'sensation', 'senstu', 'sensé', 'sent', 'sentais', 'sentent', 'sentez', 'sentezvous', 'senti', 'sentie', 'sentiment', 'sentiras', 'sentirez', 'sentis', 'sentit', 'senvole', 'sept', 'sera', 'serai', 'serait', 'seraitce', 'serastu', 'serezvous', 'seriezvous', 'serre', 'serremoi', 'serrez', 'serrure', 'serré', 'sers', 'serstoi', 'servante', 'servent', 'serveur', 'servezvous', 'service', 'serviette', 'servir', 'ses', 'sest', 'sestil', 'seul', 'seule', 'seulement', 'seules', 'seuls', 'sexprime', 'sexy', 'shanghaien', 'shizuoka', 'si', 'sidéré', 'sied', 'sien', 'sienne', 'signe', 'signer', 'signez', 'signifie', 'sil', 'silence', 'silencieux', 'sillumina', 'sils', 'simple', 'simplement', 'sincèrement', 'singapour', 'singe', 'sinquiéter', 'situe', 'six', 'siège', 'ski', 'skie', 'skient', 'skier', 'smith', 'sociable', 'soi', 'soif', 'soigneux', 'soin', 'soir', 'sois', 'soit', 'soixantedix', 'sol', 'soleil', 'solitaire', 'sombre', 'sommeil', 'sommes', 'sommesnous', 'sommet', 'son', 'songe', 'sonna', 'sonne', 'sonnez', 'sonné', 'sont', 'sontelles', 'sontils', 'soprano', 'sorcier', 'sorcière', 'sors', 'sorsmoi', 'sortez', 'sortezmoi', 'sorti', 'sortie', 'sorties', 'sortir', 'sortis', 'sortit', 'sou', 'soucie', 'soucis', 'soudainement', 'soufflait', 'souffle', 'souffrait', 'souhait', 'souhaite', 'souhaits', 'soulagé', 'soulevé', 'soupe', 'souper', 'sourcilla', 'sourd', 'souri', 'souriant', 'souriante', 'souriantes', 'souriants', 'sourire', 'souris', 'sourit', 'sous', 'soutiensmoi', 'souvenez', 'souvenezvous', 'souvent', 'souviendrai', 'souviens', 'souvienstu', 'souvrit', 'soyez', 'soûl', 'spectacle', 'sport', 'spécial', 'spécialité', 'stop', 'stupide', 'stupides', 'stylo', 'stylos', 'su', 'suce', 'sucre', 'sucreries', 'sucrons', 'sucré', 'sud', 'suffisamment', 'suffisant', 'suffit', 'suis', 'suisje', 'suisle', 'suismoi', 'suisse', 'suite', 'suivez', 'suivezle', 'suivezmoi', 'suivi', 'suivre', 'super', 'supplice', 'supplie', 'supporter', 'supporté', 'suppose', 'sur', 'surmené', 'surmenée', 'surmenées', 'surmenés', 'surpoids', 'surprenant', 'surprise', 'susan', 'sushi', 'sut', 'sy', 'sympa', 'symétrie', 'sèche', 'séchappe', 'séjour', 'sénervent', 'séparées', 'séparés', 'sérieuse', 'sérieux', 'séteignit', 'sûr', 'sûre', 'sûrement', 'sûres', 'sûrs', 'sœur', 'ta', 'table', 'tableau', 'tadmire', 'tadore', 'tai', 'taider', 'taije', 'taille', 'tailleur', 'taime', 'taimer', 'taire', 'taiseux', 'taisezvous', 'taistoi', 'talent', 'tambour', 'tant', 'tante', 'tapa', 'tape', 'tapis', 'tappeler', 'tappelles', 'tappellestu', 'tapé', 'taquine', 'tard', 'tarit', 'tarrête', 'tarte', 'tas', 'tasse', 'tasseoir', 'tassieds', 'tassois', 'tatoeba', 'taton', 'tattendra', 'tattendrai', 'tattendre', 'taxi', 'tchintchin', 'te', 'tellement', 'tembrasser', 'temmerde', 'temmène', 'temps', 'tempête', 'ten', 'tenait', 'tendis', 'tenez', 'tengage', 'tennis', 'tennuyer', 'tente', 'tenter', 'tenu', 'tenue', 'teochew', 'terminer', 'terminé', 'terre', 'terrible', 'terriblement', 'tes', 'test', 'texcuse', 'thomas', 'thune', 'thé', 'ticket', 'tien', 'tiendratelle', 'tienne', 'tiens', 'tiensmoi', 'tienstoi', 'tient', 'tigres', 'timbre', 'timide', 'timmisce', 'timmy', 'tinquiète', 'tinterrompre', 'tinviterai', 'tira', 'tire', 'tireur', 'tiré', 'toi', 'toilettes', 'toimême', 'toit', 'tokyo', 'tom', 'tomates', 'tomba', 'tombait', 'tombe', 'tomber', 'tombèrent', 'tombé', 'tombée', 'tombées', 'ton', 'tonnerre', 'tony', 'tord', 'tordu', 'tort', 'totalement', 'toubib', 'touche', 'toucher', 'touchez', 'touille', 'touillez', 'toujours', 'toupet', 'tour', 'touriste', 'tourna', 'tournai', 'tourne', 'tourner', 'tournesol', 'tournetoi', 'tournez', 'tournezlà', 'tournezvous', 'tourné', 'tournée', 'tourte', 'tous', 'tousse', 'tout', 'toute', 'toutes', 'toux', 'toyota', 'trace', 'tracez', 'traducteur', 'traductrice', 'train', 'trains', 'trametil', 'tranchante', 'tranquille', 'tranquillement', 'tranquilles', 'transmis', 'travail', 'travailla', 'travaillait', 'travaille', 'travailler', 'travailles', 'travaillestu', 'travailletil', 'travaillez', 'travaillezvous', 'travaillé', 'traverse', 'traversez', 'traversons', 'traître', 'trempé', 'trempée', 'trempées', 'trempés', 'trente', 'trentetrois', 'tricoter', 'tripes', 'triste', 'trois', 'troller', 'trolling', 'trompe', 'trompette', 'trompez', 'trompé', 'trompéje', 'trop', 'trou', 'trouva', 'trouve', 'trouver', 'trouvetil', 'trouvé', 'truc', 'trucs', 'très', 'tu', 'tua', 'tue', 'tuemoi', 'tuer', 'tuerai', 'tueront', 'turner', 'tué', 'tuée', 'tv', 'twitter', 'ty', 'type', 'typeslà', 'tâches', 'télé', 'télégramme', 'télégraphié', 'téléphone', 'téléphonelui', 'téléphonez', 'téléphoné', 'télévision', 'ténerve', 'tête', 'tînmes', 'tôt', 'un', 'une', 'unique', 'universelle', 'urgence', 'urgent', 'urines', 'usage', 'utilisation', 'utiliser', 'va', 'vacances', 'vache', 'vaches', 'vagues', 'vais', 'vaisje', 'vaisselle', 'valentin', 'valentine', 'vanné', 'vannée', 'varient', 'vas', 'vase', 'vastu', 'vastuyau', 'vasy', 'vatelle', 'vaten', 'vatil', 'vaton', 'vaut', 'veinard', 'veinarde', 'veinardes', 'veinards', 'venait', 'vend', 'vendeur', 'vendre', 'vendu', 'vendues', 'vendus', 'venez', 'venezvous', 'venir', 'venons', 'vent', 'vente', 'venteux', 'ventilateur', 'venu', 'venue', 'venues', 'venus', 'ver', 'verrai', 'verre', 'verrons', 'verrouille', 'verrouillez', 'verrouillée', 'vers', 'verse', 'vert', 'vertu', 'veuillez', 'veut', 'veux', 'veuxtu', 'vexé', 'viande', 'vice', 'vide', 'vidéo', 'vie', 'vieille', 'vieillissait', 'viendra', 'viendrai', 'viendrais', 'viendratelle', 'vienne', 'viens', 'viensen', 'vienstu', 'vient', 'vientelle', 'vieux', 'vif', 'vilain', 'vilaine', 'ville', 'vin', 'vingt', 'vint', 'violence', 'violon', 'violé', 'viré', 'vis', 'visa', 'visage', 'visite', 'visiterai', 'vistu', 'vit', 'vite', 'vitesse', 'vitil', 'vivaientils', 'vivant', 'vivants', 'vivent', 'viventelles', 'viventils', 'vivezvous', 'vivons', 'vivre', 'voeux', 'voici', 'voient', 'voile', 'voilà', 'voir', 'vois', 'voisin', 'voisins', 'voit', 'voiture', 'voitures', 'voix', 'vol', 'volant', 'vole', 'volent', 'voler', 'voleur', 'volontiers', 'volonté', 'volé', 'vomi', 'vomir', 'vont', 'vos', 'votre', 'voté', 'voudrais', 'voudraistu', 'voudras', 'voudrez', 'voudriezvous', 'voulez', 'voulezvous', 'voulons', 'vous', 'vousmême', 'voyage', 'voyager', 'voyages', 'voyagezvous', 'voyez', 'vrai', 'vraie', 'vraiment', 'vu', 'vue', 'vus', 'vécu', 'végétalien', 'végétarien', 'végétarienne', 'véhicule', 'vélo', 'vérifie', 'vérifiez', 'vérité', 'vêtements', 'vôtre', 'vôtres', 'wang', 'waou', 'whisky', 'y', 'yamada', 'yasuda', 'yatarou', 'yen', 'yens', 'yeux', 'ying', 'yokohama', 'yukina', 'zambie', 'zone', 'zoo', 'zéro', 'à', 'âge', 'ça', 'écartetoi', 'écartezvous', 'échappé', 'échec', 'échecs', 'échoua', 'échoue', 'échoué', 'éclairci', 'éclata', 'école', 'économise', 'écoulé', 'écoute', 'écoutez', 'écoutons', 'écrasa', 'écrire', 'écris', 'écrismoi', 'écristu', 'écrit', 'écrivain', 'écrivez', 'écrivezvous', 'égal', 'également', 'égalité', 'égard', 'égaré', 'égaux', 'élargisle', 'élargissezle', 'élevé', 'élevés', 'éloigne', 'éloignez', 'élus', 'élève', 'éléphants', 'ému', 'énervons', 'énervé', 'énorme', 'énormément', 'épais', 'épaisse', 'épatant', 'épouse', 'épousé', 'épris', 'épuisé', 'épuisée', 'équipe', 'érudit', 'étage', 'étagère', 'étaient', 'étais', 'étaistu', 'était', 'étaitce', 'éteignez', 'éteignezle', 'éteins', 'éteinsle', 'éteinte', 'éteintes', 'étendu', 'étendue', 'étiezvous', 'étions', 'étoiles', 'étrange', 'étranger', 'étudiant', 'étudiante', 'étudiantes', 'étudiants', 'étudie', 'étudier', 'étudies', 'étudiestu', 'étudiez', 'étudiezvous', 'étudions', 'étudié', 'été', 'évanoui', 'évanouie', 'évanouies', 'évanouis', 'évidemment', 'êtes', 'êtesvous', 'être', 'ôte', 'ôtez', 'ôtezmoi', 'œil', 'œuf', 'œufs'] \n",
            "\n",
            "##########################################\n",
            "Preprocessed Sentence number  9340 \n",
            "\n",
            "Source Sentence:  i need some sugar \n",
            "\n",
            "Target Sentence:  <bof> jai besoin de sucre <eos> \n",
            "\n",
            "##########################################\n",
            "Preprocessed Sentence number  9341 \n",
            "\n",
            "Source Sentence:  i walk \n",
            "\n",
            "Target Sentence:  <bof> je marche <eos> \n",
            "\n",
            "##########################################\n",
            "Preprocessed Sentence number  9342 \n",
            "\n",
            "Source Sentence:  be my valentine \n",
            "\n",
            "Target Sentence:  <bof> sois ma valentine <eos> \n",
            "\n",
            "##########################################\n",
            "Preprocessed Sentence number  9343 \n",
            "\n",
            "Source Sentence:  be my valentine \n",
            "\n",
            "Target Sentence:  <bof> sois mon valentin <eos> \n",
            "\n",
            "##########################################\n",
            "Preprocessed Sentence number  9344 \n",
            "\n",
            "Source Sentence:  im the best \n",
            "\n",
            "Target Sentence:  <bof> je suis la meilleure <eos> \n",
            "\n"
          ],
          "name": "stdout"
        }
      ]
    },
    {
      "cell_type": "markdown",
      "metadata": {
        "id": "k42r5uQUz8a8"
      },
      "source": [
        "I nocticed that removing commas has caused contactions in the french eg j'ai -> jai . I will have to keep this in mind when it comes to making predictions. This is an exmaple why I was apprensive about stemming and lemmization and why in the end I didnt do it."
      ]
    },
    {
      "cell_type": "markdown",
      "metadata": {
        "id": "CuQ7B78BhLrx"
      },
      "source": [
        "**Task 3 (5 marks)** \n",
        "\n",
        "---\n",
        "\n",
        "---\n",
        "\n",
        "*  Assign each unique word an integer value (5 marks).\n",
        "*  Create word embedding for your vocabulary using pre-trained embeddings, for example GloVe or fastText (10 marks) (https://nlp.stanford.edu/projects/glove/ , https://fasttext.cc/docs/en/english-vectors.html)\n",
        "* Print the first line of the embeddings (see below) "
      ]
    },
    {
      "cell_type": "code",
      "metadata": {
        "id": "pPq-c1tqfoRO",
        "colab": {
          "base_uri": "https://localhost:8080/"
        },
        "outputId": "6a64f970-d238-439f-8c39-a23e05ec8940"
      },
      "source": [
        "input_token_index = dict([(word,i) for i, word in enumerate(input_words)])\n",
        "target_token_index= dict([(word,i) for i, word in enumerate(target_words)])\n",
        "\n",
        "print(len(input_token_index))\n",
        "print(len(target_token_index))\n"
      ],
      "execution_count": null,
      "outputs": [
        {
          "output_type": "stream",
          "text": [
            "2587\n",
            "4176\n"
          ],
          "name": "stdout"
        }
      ]
    },
    {
      "cell_type": "markdown",
      "metadata": {
        "id": "bS3p7QDopC1j"
      },
      "source": [
        "I was having trouble using the glove pre-trained word embeddings. For example, it didn't like french words with accents such as journée. I realise I could have removed them by converting it all to Unicode but I was worried about different words being embedded the same.\n",
        "\n",
        " I made word embeddings using sequences of integers by using the value we assigned to each unique word. I know this makes it very small when compared to glove embeddings and this dimension reduction might affect my model but it should allow me to run more epochs and it will be faster.\n",
        "\n",
        "decoder_input_data is one hot encoded and is not a sequence of integers like the others.\n"
      ]
    },
    {
      "cell_type": "code",
      "metadata": {
        "id": "2yxhTQa2YqC5"
      },
      "source": [
        "encoder_input_data = np.zeros((len(input_texts), max_encoder_seq_length),dtype='float32')\n",
        "\n",
        "decoder_input_data = np.zeros((len(input_texts), max_decoder_seq_length),dtype='float32')\n",
        "\n",
        "decoder_target_data = np.zeros((len(input_texts), max_decoder_seq_length, num_decoder_tokens),dtype='float32')\n",
        "\n",
        "# create the data. Adapted the code from the lab for my use\n",
        "for i, (input_text, target_text) in enumerate(zip(input_texts, target_texts)):\n",
        "    for t, word in enumerate(input_text.split()):\n",
        "        encoder_input_data[i, t] = input_token_index[word]\n",
        "    for t, word in enumerate(target_text.split()):\n",
        "        decoder_input_data[i, t] = target_token_index[word]\n",
        "        if t > 0:\n",
        "            decoder_target_data[i, t - 1, target_token_index[word]] = 1."
      ],
      "execution_count": null,
      "outputs": []
    },
    {
      "cell_type": "code",
      "metadata": {
        "colab": {
          "base_uri": "https://localhost:8080/"
        },
        "id": "-fumERSjHUaT",
        "outputId": "63e4afe7-9236-479d-84f9-4462695e3989"
      },
      "source": [
        "print(np.shape(encoder_input_data))\n",
        "print(np.shape(decoder_input_data))\n",
        "print(\"---------------------------\")\n",
        "print(encoder_input_data[1])\n",
        "print(input_texts[1])\n",
        "\n",
        "print(decoder_input_data[1])\n",
        "print(target_texts[1])"
      ],
      "execution_count": null,
      "outputs": [
        {
          "output_type": "stream",
          "text": [
            "(9345, 6)\n",
            "(9345, 10)\n",
            "---------------------------\n",
            "[ 569. 2302. 2336. 1199. 2369.    0.]\n",
            "you are in my way\n",
            "[2718. 3891. 2863. 1395. 3360. 2435. 3806.    0.    0.    0.]\n",
            "<bof> tu es sur mon chemin <eos>\n"
          ],
          "name": "stdout"
        }
      ]
    },
    {
      "cell_type": "markdown",
      "metadata": {
        "id": "NtQUTHtwgHFF"
      },
      "source": [
        "As you can see my emdedings are sequences of length of the max number of words in a sentence with the word being represented by its unique integer.\n"
      ]
    },
    {
      "cell_type": "markdown",
      "metadata": {
        "id": "2QfLgKEgazro"
      },
      "source": [
        "## Section 2 Translation Model training\n",
        "\n",
        "\n",
        "\n",
        "---\n",
        "\n"
      ]
    },
    {
      "cell_type": "markdown",
      "metadata": {
        "id": "Y8WnlX8d0RVj"
      },
      "source": [
        "**Task 4 (15 marks)**\n",
        "* Provide code for the encoder using Keras LSTM (5 marks)\n",
        "* Provide code for the decoder using Keras LSTM (5 marks)\n",
        "* Train the sequence2sequence (encoder-decoder) model (5 marks) \n"
      ]
    },
    {
      "cell_type": "code",
      "metadata": {
        "id": "BrLgdlemvIO_"
      },
      "source": [
        "#Setting the hyperparamters for the model\n",
        "batch_size= 128 #batch size\n",
        "epochs = 50 #could keep epochs very high as my emededings are very small. \n",
        "dim = 128 #dimension size"
      ],
      "execution_count": null,
      "outputs": []
    },
    {
      "cell_type": "markdown",
      "metadata": {
        "id": "IDV6RDMMyvkO"
      },
      "source": [
        "My model is very simlar to the one we used to the lab except I used a embedding layer after each input and it is adpated to a word level. I use the lecture notes, the lab material and this keras example as refrences (https://blog.keras.io/a-ten-minute-introduction-to-sequence-to-sequence-learning-in-keras.html)"
      ]
    },
    {
      "cell_type": "code",
      "metadata": {
        "id": "v-yvwA5Vu5cL"
      },
      "source": [
        "#encoder code \n",
        "#I left the input size of my models as None. Whenever I defined the size I ran into errors later on and couldn't figure it out, even when my inouts were the same\n",
        "\n",
        "#Input layer\n",
        "encoder_inputs = Input(shape=(None,))\n",
        "# input words embedding\n",
        "enEmbedd =  Embedding(num_encoder_tokens, dim)(encoder_inputs)\n",
        "# defining the LSTM layer and then passes the Embeddings_input\n",
        "encoder = LSTM(dim, return_state=True)\n",
        "encoder_outputs, state_h, state_c = encoder(enEmbedd)\n",
        "# keep the states from the encoder \n",
        "encoder_states = [state_h, state_c]\n"
      ],
      "execution_count": null,
      "outputs": []
    },
    {
      "cell_type": "code",
      "metadata": {
        "id": "5NlG8zMuu74J"
      },
      "source": [
        "#decoder code \n",
        "decoder_inputs = Input(shape=(None,))\n",
        "# target word embeddings\n",
        "frEmbedd =  Embedding(num_decoder_tokens, dim)\n",
        "frData = frEmbedd(decoder_inputs)\n",
        "\n",
        "#defining the decoder embedding layer and then passes the embeddings\n",
        "#We pass the states from the encoder lstm layer \n",
        "decoder_lstm = LSTM(dim, return_sequences=True, return_state=True)\n",
        "#We only keep the outputs not the states from the LSTM\n",
        "decoder_outputs, _, _ = decoder_lstm(frData ,\n",
        "                                     initial_state=encoder_states)\n",
        "#Our decoder layers, defined and then executed with the decoder outputs\n",
        "decoder_dense = Dense(num_decoder_tokens, activation='softmax')\n",
        "decoder_outputs = decoder_dense(decoder_outputs)\n"
      ],
      "execution_count": null,
      "outputs": []
    },
    {
      "cell_type": "code",
      "metadata": {
        "id": "r1cqKc7FsuTR"
      },
      "source": [
        "#Define the model\n",
        "model = Model([encoder_inputs, decoder_inputs], decoder_outputs)\n",
        " \n",
        "#Compile the model \n",
        "#optimiser is  rmsprop\n",
        "#loss fucntion is categorical crossentropy\n",
        "#accuracy as metric\n",
        "model.compile(optimizer='rmsprop', loss='categorical_crossentropy', metrics=[\"accuracy\"])\n"
      ],
      "execution_count": null,
      "outputs": []
    },
    {
      "cell_type": "code",
      "metadata": {
        "colab": {
          "base_uri": "https://localhost:8080/",
          "height": 533
        },
        "id": "uwlbzPsUqumA",
        "outputId": "d5b5abf2-3b03-438d-c518-dccb96d9f387"
      },
      "source": [
        "#Plotting the model so I can see it better\n",
        "tf.keras.utils.plot_model(\n",
        "    model, show_shapes=True,\n",
        "    show_layer_names=True\n",
        ")"
      ],
      "execution_count": null,
      "outputs": [
        {
          "output_type": "execute_result",
          "data": {
            "image/png": "[encoded data removed]",
            "text/plain": [
              "<IPython.core.display.Image object>"
            ]
          },
          "metadata": {
            "tags": []
          },
          "execution_count": 14
        }
      ]
    },
    {
      "cell_type": "code",
      "metadata": {
        "id": "ovWQs8KG09we",
        "colab": {
          "base_uri": "https://localhost:8080/"
        },
        "outputId": "f7e0f294-a838-4b55-8031-a57ecdd82f77"
      },
      "source": [
        "#This runs the training of the model\n",
        "#May take a while so beware\n",
        "model.fit([encoder_input_data, decoder_input_data], decoder_target_data,\n",
        "          batch_size=batch_size,\n",
        "          epochs=epochs,\n",
        "          validation_split=0.2)\n",
        "model.save('seq2seq_source_target.h5')"
      ],
      "execution_count": null,
      "outputs": [
        {
          "output_type": "stream",
          "text": [
            "Epoch 1/50\n",
            "59/59 [==============================] - 37s 47ms/step - loss: 2.9934 - accuracy: 0.0922 - val_loss: 2.4801 - val_accuracy: 0.1000\n",
            "Epoch 2/50\n",
            "59/59 [==============================] - 2s 34ms/step - loss: 2.5081 - accuracy: 0.1049 - val_loss: 2.4951 - val_accuracy: 0.1145\n",
            "Epoch 3/50\n",
            "59/59 [==============================] - 2s 34ms/step - loss: 2.4777 - accuracy: 0.1142 - val_loss: 2.5030 - val_accuracy: 0.1147\n",
            "Epoch 4/50\n",
            "59/59 [==============================] - 2s 34ms/step - loss: 2.4558 - accuracy: 0.1149 - val_loss: 2.5196 - val_accuracy: 0.1148\n",
            "Epoch 5/50\n",
            "59/59 [==============================] - 2s 35ms/step - loss: 2.4289 - accuracy: 0.1155 - val_loss: 2.5384 - val_accuracy: 0.1147\n",
            "Epoch 6/50\n",
            "59/59 [==============================] - 2s 34ms/step - loss: 2.4228 - accuracy: 0.1156 - val_loss: 2.5423 - val_accuracy: 0.1147\n",
            "Epoch 7/50\n",
            "59/59 [==============================] - 2s 34ms/step - loss: 2.3997 - accuracy: 0.1152 - val_loss: 2.5378 - val_accuracy: 0.1147\n",
            "Epoch 8/50\n",
            "59/59 [==============================] - 2s 34ms/step - loss: 2.3938 - accuracy: 0.1142 - val_loss: 2.5232 - val_accuracy: 0.1149\n",
            "Epoch 9/50\n",
            "59/59 [==============================] - 2s 34ms/step - loss: 2.3785 - accuracy: 0.1144 - val_loss: 2.5224 - val_accuracy: 0.1148\n",
            "Epoch 10/50\n",
            "59/59 [==============================] - 2s 35ms/step - loss: 2.3440 - accuracy: 0.1158 - val_loss: 2.5054 - val_accuracy: 0.1158\n",
            "Epoch 11/50\n",
            "59/59 [==============================] - 2s 35ms/step - loss: 2.3327 - accuracy: 0.1174 - val_loss: 2.4884 - val_accuracy: 0.1167\n",
            "Epoch 12/50\n",
            "59/59 [==============================] - 2s 34ms/step - loss: 2.3018 - accuracy: 0.1186 - val_loss: 2.4688 - val_accuracy: 0.1254\n",
            "Epoch 13/50\n",
            "59/59 [==============================] - 2s 34ms/step - loss: 2.2676 - accuracy: 0.1252 - val_loss: 2.4578 - val_accuracy: 0.1300\n",
            "Epoch 14/50\n",
            "59/59 [==============================] - 2s 34ms/step - loss: 2.2558 - accuracy: 0.1323 - val_loss: 2.4421 - val_accuracy: 0.1305\n",
            "Epoch 15/50\n",
            "59/59 [==============================] - 2s 34ms/step - loss: 2.2292 - accuracy: 0.1349 - val_loss: 2.4281 - val_accuracy: 0.1328\n",
            "Epoch 16/50\n",
            "59/59 [==============================] - 2s 34ms/step - loss: 2.2129 - accuracy: 0.1360 - val_loss: 2.4137 - val_accuracy: 0.1342\n",
            "Epoch 17/50\n",
            "59/59 [==============================] - 2s 33ms/step - loss: 2.1971 - accuracy: 0.1369 - val_loss: 2.4065 - val_accuracy: 0.1350\n",
            "Epoch 18/50\n",
            "59/59 [==============================] - 2s 33ms/step - loss: 2.1816 - accuracy: 0.1392 - val_loss: 2.3932 - val_accuracy: 0.1358\n",
            "Epoch 19/50\n",
            "59/59 [==============================] - 2s 34ms/step - loss: 2.1476 - accuracy: 0.1403 - val_loss: 2.3788 - val_accuracy: 0.1379\n",
            "Epoch 20/50\n",
            "59/59 [==============================] - 2s 34ms/step - loss: 2.1260 - accuracy: 0.1421 - val_loss: 2.3729 - val_accuracy: 0.1393\n",
            "Epoch 21/50\n",
            "59/59 [==============================] - 2s 34ms/step - loss: 2.1019 - accuracy: 0.1424 - val_loss: 2.3598 - val_accuracy: 0.1458\n",
            "Epoch 22/50\n",
            "59/59 [==============================] - 2s 34ms/step - loss: 2.0905 - accuracy: 0.1474 - val_loss: 2.3505 - val_accuracy: 0.1510\n",
            "Epoch 23/50\n",
            "59/59 [==============================] - 2s 34ms/step - loss: 2.0710 - accuracy: 0.1516 - val_loss: 2.3403 - val_accuracy: 0.1505\n",
            "Epoch 24/50\n",
            "59/59 [==============================] - 2s 34ms/step - loss: 2.0716 - accuracy: 0.1546 - val_loss: 2.3362 - val_accuracy: 0.1504\n",
            "Epoch 25/50\n",
            "59/59 [==============================] - 2s 34ms/step - loss: 2.0312 - accuracy: 0.1555 - val_loss: 2.3085 - val_accuracy: 0.1526\n",
            "Epoch 26/50\n",
            "59/59 [==============================] - 2s 34ms/step - loss: 2.0091 - accuracy: 0.1576 - val_loss: 2.3056 - val_accuracy: 0.1546\n",
            "Epoch 27/50\n",
            "59/59 [==============================] - 2s 34ms/step - loss: 2.0129 - accuracy: 0.1613 - val_loss: 2.2913 - val_accuracy: 0.1567\n",
            "Epoch 28/50\n",
            "59/59 [==============================] - 2s 34ms/step - loss: 1.9879 - accuracy: 0.1603 - val_loss: 2.2822 - val_accuracy: 0.1572\n",
            "Epoch 29/50\n",
            "59/59 [==============================] - 2s 34ms/step - loss: 1.9629 - accuracy: 0.1612 - val_loss: 2.2858 - val_accuracy: 0.1573\n",
            "Epoch 30/50\n",
            "59/59 [==============================] - 2s 34ms/step - loss: 1.9509 - accuracy: 0.1645 - val_loss: 2.2721 - val_accuracy: 0.1588\n",
            "Epoch 31/50\n",
            "59/59 [==============================] - 2s 35ms/step - loss: 1.9377 - accuracy: 0.1665 - val_loss: 2.2584 - val_accuracy: 0.1598\n",
            "Epoch 32/50\n",
            "59/59 [==============================] - 2s 34ms/step - loss: 1.9228 - accuracy: 0.1674 - val_loss: 2.2587 - val_accuracy: 0.1609\n",
            "Epoch 33/50\n",
            "59/59 [==============================] - 2s 33ms/step - loss: 1.9008 - accuracy: 0.1679 - val_loss: 2.2468 - val_accuracy: 0.1625\n",
            "Epoch 34/50\n",
            "59/59 [==============================] - 2s 34ms/step - loss: 1.8913 - accuracy: 0.1721 - val_loss: 2.2492 - val_accuracy: 0.1625\n",
            "Epoch 35/50\n",
            "59/59 [==============================] - 2s 34ms/step - loss: 1.8716 - accuracy: 0.1739 - val_loss: 2.2326 - val_accuracy: 0.1652\n",
            "Epoch 36/50\n",
            "59/59 [==============================] - 2s 34ms/step - loss: 1.8615 - accuracy: 0.1756 - val_loss: 2.2273 - val_accuracy: 0.1657\n",
            "Epoch 37/50\n",
            "59/59 [==============================] - 2s 34ms/step - loss: 1.8432 - accuracy: 0.1779 - val_loss: 2.2308 - val_accuracy: 0.1659\n",
            "Epoch 38/50\n",
            "59/59 [==============================] - 2s 35ms/step - loss: 1.8289 - accuracy: 0.1788 - val_loss: 2.2177 - val_accuracy: 0.1668\n",
            "Epoch 39/50\n",
            "59/59 [==============================] - 2s 34ms/step - loss: 1.8128 - accuracy: 0.1816 - val_loss: 2.2137 - val_accuracy: 0.1683\n",
            "Epoch 40/50\n",
            "59/59 [==============================] - 2s 35ms/step - loss: 1.7920 - accuracy: 0.1826 - val_loss: 2.2111 - val_accuracy: 0.1694\n",
            "Epoch 41/50\n",
            "59/59 [==============================] - 2s 35ms/step - loss: 1.7771 - accuracy: 0.1846 - val_loss: 2.1939 - val_accuracy: 0.1685\n",
            "Epoch 42/50\n",
            "59/59 [==============================] - 2s 34ms/step - loss: 1.7585 - accuracy: 0.1851 - val_loss: 2.1947 - val_accuracy: 0.1700\n",
            "Epoch 43/50\n",
            "59/59 [==============================] - 2s 34ms/step - loss: 1.7484 - accuracy: 0.1865 - val_loss: 2.1866 - val_accuracy: 0.1682\n",
            "Epoch 44/50\n",
            "59/59 [==============================] - 2s 35ms/step - loss: 1.7413 - accuracy: 0.1880 - val_loss: 2.1845 - val_accuracy: 0.1703\n",
            "Epoch 45/50\n",
            "59/59 [==============================] - 2s 34ms/step - loss: 1.7106 - accuracy: 0.1913 - val_loss: 2.1765 - val_accuracy: 0.1724\n",
            "Epoch 46/50\n",
            "59/59 [==============================] - 2s 34ms/step - loss: 1.7051 - accuracy: 0.1893 - val_loss: 2.1819 - val_accuracy: 0.1721\n",
            "Epoch 47/50\n",
            "59/59 [==============================] - 2s 35ms/step - loss: 1.6988 - accuracy: 0.1904 - val_loss: 2.1706 - val_accuracy: 0.1731\n",
            "Epoch 48/50\n",
            "59/59 [==============================] - 2s 34ms/step - loss: 1.6722 - accuracy: 0.1916 - val_loss: 2.1701 - val_accuracy: 0.1721\n",
            "Epoch 49/50\n",
            "59/59 [==============================] - 2s 34ms/step - loss: 1.6661 - accuracy: 0.1958 - val_loss: 2.1595 - val_accuracy: 0.1732\n",
            "Epoch 50/50\n",
            "59/59 [==============================] - 2s 34ms/step - loss: 1.6488 - accuracy: 0.1954 - val_loss: 2.1525 - val_accuracy: 0.1729\n"
          ],
          "name": "stdout"
        }
      ]
    },
    {
      "cell_type": "markdown",
      "metadata": {
        "id": "0Sy_WCp31x79"
      },
      "source": [
        "## Section 3 Testing\n",
        "\n",
        "---\n",
        "\n",
        "**Task 5 (20 marks)**\n",
        "\n",
        "* Use the trained model to translate the text from the source into the target language (10 marks). \n",
        "* Use the test/evaluation set (see Section 1) and perform an automatic evaluation with the BLEU metric (10 marks). \n",
        "You can use the NLTK library to calculate BLEU."
      ]
    },
    {
      "cell_type": "code",
      "metadata": {
        "id": "j5RD7uSy2yt9",
        "colab": {
          "base_uri": "https://localhost:8080/"
        },
        "outputId": "cce33f4e-7157-4a64-d7b1-2d5480f43548"
      },
      "source": [
        "model = keras.models.load_model('seq2seq_source_target.h5')\n",
        "model.summary()"
      ],
      "execution_count": null,
      "outputs": [
        {
          "output_type": "stream",
          "text": [
            "Model: \"model\"\n",
            "__________________________________________________________________________________________________\n",
            "Layer (type)                    Output Shape         Param #     Connected to                     \n",
            "==================================================================================================\n",
            "input_1 (InputLayer)            [(None, None)]       0                                            \n",
            "__________________________________________________________________________________________________\n",
            "input_2 (InputLayer)            [(None, None)]       0                                            \n",
            "__________________________________________________________________________________________________\n",
            "embedding (Embedding)           (None, None, 128)    331136      input_1[0][0]                    \n",
            "__________________________________________________________________________________________________\n",
            "embedding_1 (Embedding)         (None, None, 128)    534528      input_2[0][0]                    \n",
            "__________________________________________________________________________________________________\n",
            "lstm (LSTM)                     [(None, 128), (None, 131584      embedding[0][0]                  \n",
            "__________________________________________________________________________________________________\n",
            "lstm_1 (LSTM)                   [(None, None, 128),  131584      embedding_1[0][0]                \n",
            "                                                                 lstm[0][1]                       \n",
            "                                                                 lstm[0][2]                       \n",
            "__________________________________________________________________________________________________\n",
            "dense (Dense)                   (None, None, 4176)   538704      lstm_1[0][0]                     \n",
            "==================================================================================================\n",
            "Total params: 1,667,536\n",
            "Trainable params: 1,667,536\n",
            "Non-trainable params: 0\n",
            "__________________________________________________________________________________________________\n"
          ],
          "name": "stdout"
        }
      ]
    },
    {
      "cell_type": "code",
      "metadata": {
        "id": "zmz0UQyFUQaN"
      },
      "source": [
        "#Making model for inferance\n",
        "\n",
        "# define the encoder model \n",
        "encoder_model = Model(encoder_inputs, encoder_states)\n",
        "\n",
        "\n",
        "# Redefine the decoder model with decoder will be getting below states from encoder while in prediction\n",
        "decoder_state_input_h = Input(shape=(dim,))\n",
        "decoder_state_input_c = Input(shape=(dim,))\n",
        "\n",
        "\n",
        "decoder_states_inputs = [decoder_state_input_h, decoder_state_input_c]\n",
        "\n",
        "decode_embeds = frEmbedd(decoder_inputs)\n",
        "\n",
        "decoder_outputs, state_h, state_c = decoder_lstm(decode_embeds, initial_state=decoder_states_inputs)\n",
        "\n",
        "decoder_states = [state_h, state_c]\n",
        "decoder_outputs = decoder_dense(decoder_outputs)\n",
        "\n",
        "#The final decoder model\n",
        "decoder_model = Model(\n",
        "    [decoder_inputs] + decoder_states_inputs,\n",
        "    [decoder_outputs] + decoder_states)"
      ],
      "execution_count": null,
      "outputs": []
    },
    {
      "cell_type": "code",
      "metadata": {
        "id": "MUX7kIy-NlqK"
      },
      "source": [
        "# reverse-lookup token index to turn sequences back to characters\n",
        "reverse_input_word_index = dict(\n",
        "  (i, word) for word, i in input_token_index.items())\n",
        "reverse_target_word_index = dict(\n",
        "  (i, word) for word, i in target_token_index.items())"
      ],
      "execution_count": null,
      "outputs": []
    },
    {
      "cell_type": "code",
      "metadata": {
        "colab": {
          "base_uri": "https://localhost:8080/"
        },
        "id": "il33e12P5aZm",
        "outputId": "6dcde872-6306-4642-cd5b-d4bfc6946591"
      },
      "source": [
        "clean_test_en = []\n",
        "clean_test_fr = []\n",
        "\n",
        "#Before I start evaluating I need to clean my and prep my training data i.e. run it through my clean function\n",
        "for k in range(len(testEn)):\n",
        "\n",
        "  cleanfr = cleanText(testfr[k])\n",
        "  cleanEn =  cleanText(testEn[k])\n",
        " \n",
        "  #add them to our temporary text lists\n",
        "  clean_test_en.append(cleanEn)\n",
        "  clean_test_fr.append(cleanfr)\n",
        "\n",
        "print(clean_test_en[1])\n",
        "print(clean_test_fr[1])\n",
        "\n",
        "#Keep 1000 test samples\n",
        "clean_test_en = clean_test_en[:1000]\n",
        "clean_test_fr = clean_test_fr[:1000]\n",
        "\n",
        "\n",
        "\n",
        "print(\"We have \",len(clean_test_fr),\" sentences of testing data\")\n",
        "\n",
        "max_encoder_test_sequnce_test =  max([len(txt.split()) for txt in clean_test_en])"
      ],
      "execution_count": null,
      "outputs": [
        {
          "output_type": "stream",
          "text": [
            "i want this guitar\n",
            "je veux cette guitare\n",
            "We have  1000  sentences of testing data\n"
          ],
          "name": "stdout"
        }
      ]
    },
    {
      "cell_type": "code",
      "metadata": {
        "id": "lXg4Nacd253k"
      },
      "source": [
        "#setting the representation for my testing data\n",
        "encoder_input_test_data = np.zeros((len(clean_test_en), max_encoder_test_sequnce_test),dtype='float32')\n",
        "\n",
        "for i in range(0,len(clean_test_en)):\n",
        "  for t in range(0,len(clean_test_en[i].split())):\n",
        "    line = clean_test_en[i].split()\n",
        "    if line[t] in input_token_index:\n",
        "      encoder_input_test_data[i, t] = input_token_index[line[t]]\n",
        "   "
      ],
      "execution_count": null,
      "outputs": []
    },
    {
      "cell_type": "code",
      "metadata": {
        "id": "EGJez_x2Rc4i"
      },
      "source": [
        "def decode_sequence(input_seq):\n",
        "    # Encode the input  state vectors to get state vectors\n",
        "    states_value = encoder_model.predict(input_seq)\n",
        "    \n",
        "    #start a squence of 1,1 and add the start character\n",
        "    target_seq = np.zeros((1,1))\n",
        "    target_seq[0, 0] = target_token_index['<bof>']\n",
        "\n",
        "    \n",
        "    #the output builder loop\n",
        "    stop_condition = False\n",
        "    decoded_sentence = ''\n",
        "    while not stop_condition:\n",
        "        output_tokens, h, c = decoder_model.predict([target_seq] + states_value)\n",
        "        # Sample a token and add the word to decode sequence \n",
        "        sampled_token_index = np.argmax(output_tokens[0, -1, :])\n",
        "        sampled_word = reverse_target_word_index[sampled_token_index]\n",
        "        decoded_sentence += ' '+ sampled_word\n",
        "\n",
        "        # Stops when it either hit max word length  or find <bof>\n",
        "        if (sampled_word == '<eos>' or\n",
        "           len(decoded_sentence.split()) > max_decoder_seq_length):\n",
        "            stop_condition = True\n",
        "        \n",
        "        # Update the target sequence \n",
        "        target_seq = np.zeros((1,1))\n",
        "        target_seq[0, 0] = sampled_token_index\n",
        "\n",
        "        # Update states\n",
        "        states_value = [h, c]\n",
        "\n",
        "    #return the decoded_sentence/sentence\n",
        "    return decoded_sentence"
      ],
      "execution_count": null,
      "outputs": []
    },
    {
      "cell_type": "code",
      "metadata": {
        "id": "qrsABFMi5lik"
      },
      "source": [
        "#Create lists for predictions and ground truth\n",
        "y_true = []\n",
        "\n",
        "y_hat = []\n",
        "\n",
        "#getting some data ready for calcualting BLEU score\n",
        "for sentence in clean_test_fr:\n",
        "  y_true.append(sentence.split())\n"
      ],
      "execution_count": null,
      "outputs": []
    },
    {
      "cell_type": "code",
      "metadata": {
        "id": "ZOzQN_bu3h_4"
      },
      "source": [
        "#Will calculate the overall BLEU score for the corpus using the relevant BLEU function from nltk\n",
        "#Have a lot of testing samples so does take some time\n",
        "\n",
        "for sent in range (len(encoder_input_test_data)):\n",
        "  input_sequence = encoder_input_test_data[sent:sent + 1]\n",
        "  decoded_sentence = decode_sequence(input_sequence)\n",
        "\n",
        "  #This appends the sentence to the predictions as a list minus the <eos> token as the BLEU function doesnt like it\n",
        "  y_hat.append(decoded_sentence.split()[:-1])\n"
      ],
      "execution_count": null,
      "outputs": []
    },
    {
      "cell_type": "code",
      "metadata": {
        "colab": {
          "base_uri": "https://localhost:8080/"
        },
        "id": "3WrfqUcDDmbN",
        "outputId": "e7245c82-1a67-4157-c6c0-1334d2d101b4"
      },
      "source": [
        " BLEU = round(nltk.translate.bleu_score.corpus_bleu(y_true,y_hat),3)\n",
        " print(\"After evaluation on unseen data, we can see our BLEU is \",BLEU)"
      ],
      "execution_count": null,
      "outputs": [
        {
          "output_type": "stream",
          "text": [
            "After evaluation on unseen data, we can see our BLEU is  0.255\n"
          ],
          "name": "stdout"
        },
        {
          "output_type": "stream",
          "text": [
            "/usr/local/lib/python3.7/dist-packages/nltk/translate/bleu_score.py:490: UserWarning: \n",
            "Corpus/Sentence contains 0 counts of 2-gram overlaps.\n",
            "BLEU scores might be undesirable; use SmoothingFunction().\n",
            "  warnings.warn(_msg)\n"
          ],
          "name": "stderr"
        }
      ]
    },
    {
      "cell_type": "code",
      "metadata": {
        "colab": {
          "base_uri": "https://localhost:8080/"
        },
        "id": "vKqsySRDR7LU",
        "outputId": "97425d68-d673-4f1a-8cda-782854d12860"
      },
      "source": [
        "#Will print some random samples to show my results\n",
        "import random\n",
        "sampleLines =  random.sample(range(len(y_hat)),5)\n",
        "\n",
        "\n",
        "for i in sampleLines:\n",
        "  print(\"#############################################\")\n",
        "  print(\"Sample :\",i)\n",
        "  print(\"Orginal English Sentence : \",clean_test_en[i])\n",
        "  print(\"Orginal translation Sentence : \",clean_test_fr[i])\n",
        "  print(\"Predicted translation : \",\" \".join(y_hat[i]))\n",
        "  print(\"\\n\")"
      ],
      "execution_count": null,
      "outputs": [
        {
          "output_type": "stream",
          "text": [
            "#############################################\n",
            "Sample : 986\n",
            "Orginal English Sentence :  did that work\n",
            "Orginal translation Sentence :  estce que ça a marché\n",
            "Predicted translation :  faites le\n",
            "\n",
            "\n",
            "#############################################\n",
            "Sample : 453\n",
            "Orginal English Sentence :  we love what we do\n",
            "Orginal translation Sentence :  nous aimons ce que nous faisons\n",
            "Predicted translation :  nous sommes\n",
            "\n",
            "\n",
            "#############################################\n",
            "Sample : 461\n",
            "Orginal English Sentence :  do you eat a lot\n",
            "Orginal translation Sentence :  mangestu beaucoup\n",
            "Predicted translation :  fais vous le\n",
            "\n",
            "\n",
            "#############################################\n",
            "Sample : 635\n",
            "Orginal English Sentence :  i need new tires\n",
            "Orginal translation Sentence :  il me faut des pneus neufs\n",
            "Predicted translation :  jai besoin un\n",
            "\n",
            "\n",
            "#############################################\n",
            "Sample : 94\n",
            "Orginal English Sentence :  no one was seen\n",
            "Orginal translation Sentence :  on na vu personne\n",
            "Predicted translation :  personne nest pas\n",
            "\n",
            "\n"
          ],
          "name": "stdout"
        }
      ]
    },
    {
      "cell_type": "markdown",
      "metadata": {
        "id": "VoS1JQUBtp5G"
      },
      "source": [
        "#Anlaysis of results\n",
        "\n",
        "With a BLEU of around 0.3 with 100 epochs of training our model isn't great, but looking over the 5 random sampled sentences, some of the translations make good semantic sense.\n",
        "\n",
        "Dissonantly the BLEU function tells me it found no 2-gram overlaps in the whole corpus. Perhaps not using the Glove pre-trained embeddings limited the model before I even started. I would redo it but unfortunately, I will not have time to retry it. Both my training accuracy and validation accuracy were increasing at 100 epochs but very slowly so perhaps if I ran the model for a very long time, it would have been better.\n",
        "\n",
        "I will implement attention into the model and see if that improves my model.\n"
      ]
    },
    {
      "cell_type": "markdown",
      "metadata": {
        "id": "wb4F1-a00Hw6"
      },
      "source": [
        "# Section 4 Attention\n",
        "\n",
        "---\n",
        "\n"
      ]
    },
    {
      "cell_type": "markdown",
      "metadata": {
        "id": "6XTD-fCC1yUA"
      },
      "source": [
        "**Task 5 (40 Marks)** Sequence2Sequence\n",
        "\n",
        "* Extend the existing Seq2Seq model with an attention mechanism [Discussed in Class]\n",
        "* Create sequence2sequence model with attention (15 marks)\n",
        "* Train the model with the same data from Section 1 (10 marks)\n",
        "* Translate the evaluation set using the sequence2sequence attention model (10 marks)\n",
        "* Evaluate the translations made with the sequence2sequence attention model and compare it with the model without attention using BLEU (5 marks)"
      ]
    },
    {
      "cell_type": "markdown",
      "metadata": {
        "id": "QOLaKA2ipPT3"
      },
      "source": [
        "The only difference between my first model and this model is that I am adding a attention layer before the final dense layer. I will be using the keras attention layer and used this page to help my implement it. https://keras.io/api/layers/attention_layers/attention/\n"
      ]
    },
    {
      "cell_type": "code",
      "metadata": {
        "id": "CvM_sIQhrFDU"
      },
      "source": [
        "\n",
        "#encoder code the exact same as before\n",
        "#Input layer\n",
        "encoder_inputs = Input(shape=(None,))\n",
        "# English words embedding\n",
        "enData =  Embedding(num_encoder_tokens, dim)(encoder_inputs)\n",
        "# defining the LSTM layer and then passes the Embeddings\n",
        "encoder_lstm = LSTM(dim, return_state=True)\n",
        "encoder_outputs, state_h, state_c = encoder_lstm(enData)\n",
        "# keep the states from the encoder \n",
        "encoder_states = [state_h, state_c]"
      ],
      "execution_count": null,
      "outputs": []
    },
    {
      "cell_type": "code",
      "metadata": {
        "id": "wyK-OHmwsNdu"
      },
      "source": [
        "#Decoder  code with attention\n",
        "\n",
        "\n",
        "decoder_inputs = Input(shape=(None,))\n",
        "# french word embeddings\n",
        "frData =  Embedding(num_decoder_tokens, dim)(decoder_inputs)\n",
        "\n",
        "\n",
        "#We pass the states from the encoder lstm layer \n",
        "decoder_lstm = LSTM(dim, return_sequences=True, return_state=True)\n",
        "#We only keep the outputs not the states from the LSTM\n",
        "decoder_outputs, _, _ = decoder_lstm(frData ,\n",
        "                                     initial_state=encoder_states)\n",
        "\n",
        "#The attention part that I pass the outputs too\n",
        "attention_values = tf.keras.layers.Attention()(\n",
        "    [encoder_outputs, decoder_outputs])\n",
        "\n",
        "\n",
        "#Concates the context vector to the decoder outputs\n",
        "dense_input_attent = tf.keras.layers.Concatenate(axis=2)(\n",
        "    [ attention_values,decoder_outputs])\n",
        "\n",
        "\n",
        "#Our decoder layers, defined and then executed with the decoder outputs\n",
        "decoder_dense_attent = Dense(num_decoder_tokens, activation='softmax')\n",
        "layer_attention_out = decoder_dense_attent(dense_input_attent)"
      ],
      "execution_count": null,
      "outputs": []
    },
    {
      "cell_type": "code",
      "metadata": {
        "id": "3nuPkjEc8VVi"
      },
      "source": [
        "#Define the model with attention\n",
        "model_attention = Model([encoder_inputs, decoder_inputs], layer_attention_out)\n",
        " \n",
        "#Compile the model \n",
        "#optimiser is  rmsprop\n",
        "#loss fucntion is categorical crossentropy\n",
        "#accuracy as metric\n",
        "model_attention.compile(optimizer='rmsprop', loss='categorical_crossentropy', metrics=[\"accuracy\"])\n"
      ],
      "execution_count": null,
      "outputs": []
    },
    {
      "cell_type": "code",
      "metadata": {
        "colab": {
          "base_uri": "https://localhost:8080/",
          "height": 753
        },
        "id": "HnrQvKzGD4GY",
        "outputId": "4b92d4cd-184c-4a27-f4b1-41c2aa5e3b26"
      },
      "source": [
        "#Plotting the attention model so I can see it better\n",
        "tf.keras.utils.plot_model(\n",
        "    model_attention, show_shapes=True,\n",
        "    show_layer_names=True\n",
        ")"
      ],
      "execution_count": null,
      "outputs": [
        {
          "output_type": "execute_result",
          "data": {
            "image/png": "[encoded data removed]",
            "text/plain": [
              "<IPython.core.display.Image object>"
            ]
          },
          "metadata": {
            "tags": []
          },
          "execution_count": 37
        }
      ]
    },
    {
      "cell_type": "code",
      "metadata": {
        "id": "Sb1jk09786VW"
      },
      "source": [
        "#This runs the training of the attention model with the exact same training data\n",
        "#May take a while so user beware\n",
        "\n",
        "#I ran into a problem here where I couldn't train the model. The concatenate layer kept on giving me errors due to mismatching shapes between the output of the attention layer and output\n",
        "model_attention.fit([encoder_input_data, decoder_input_data], decoder_target_data,\n",
        "          batch_size=batch_size,\n",
        "          epochs=epochs,\n",
        "          validation_split=0.2)\n",
        "model_attention.save('seq2seq_source_target_attention.h5')"
      ],
      "execution_count": null,
      "outputs": []
    },
    {
      "cell_type": "code",
      "metadata": {
        "id": "gRrjvj64IMtQ"
      },
      "source": [
        "#Just a repat for the inference models from before, this time for the model with attention\n",
        "#This code is the same as my last one but If i got the attention working i would have to make some changes to it \n",
        "\n",
        "# define the encoder model again, but it't the exact same\n",
        "encoder_model_attention = Model(encoder_inputs, encoder_states)\n",
        "\n",
        "\n",
        "# Redefine the decoder model with decoder will be getting below inputs from encoder while in prediction\n",
        "decoder_state_input_h = Input(shape=(dim,))\n",
        "decoder_state_input_c = Input(shape=(dim,))\n",
        "decoder_states_inputs = [decoder_state_input_h, decoder_state_input_c]\n",
        "\n",
        "decode_embeds = frEmbedd(decoder_inputs)\n",
        "\n",
        "decoder_outputs, state_h, state_c = decoder_lstm(decode_embeds, initial_state=decoder_states_inputs)\n",
        "\n",
        "decoder_states = [state_h, state_c]\n",
        "\n",
        "decoder_outputs = decoder_dense(decoder_outputs)\n",
        "\n",
        "#The final decoder model\n",
        "decoder_model_attention_attention = Model(\n",
        "    [decoder_inputs] + decoder_states_inputs,\n",
        "    [decoder_outputs] + decoder_states)\n",
        "\n"
      ],
      "execution_count": null,
      "outputs": []
    },
    {
      "cell_type": "code",
      "metadata": {
        "id": "KC6vHJKMIUyt"
      },
      "source": [
        "#another fucntion for making the predictions but this time uses the new model\n",
        "\n",
        "def decode_sequence_attention(input_seq):\n",
        "    # Encode the input  state vectors to get state vectors\n",
        "    states_value = encoder_model_attention.predict(input_seq)\n",
        "    \n",
        "    #starting a 1,1 sequence and adding the start character\n",
        "    target_seq = np.zeros((1,1))\n",
        "    target_seq[0, 0] = target_token_index['<bof>']\n",
        "\n",
        "    \n",
        "    stop_condition = False\n",
        "    decoded_sentence = ''\n",
        "    while not stop_condition:\n",
        "        output_tokens, h, c = decoder_model_attention.predict([target_seq] + states_value)\n",
        "        # Sample a token and add word to decoded sequence\n",
        "        sampled_token_index = np.argmax(output_tokens[0, -1, :])\n",
        "        sampled_word = reverse_target_word_index[sampled_token_index]\n",
        "        decoded_sentence += ' '+ sampled_word\n",
        "\n",
        "        # stops when either hit max word or find <eos>\n",
        "        if (sampled_word == '<eos>' or\n",
        "           len(decoded_sentence.split()) > max_decoder_seq_length):\n",
        "            stop_condition = True\n",
        "        \n",
        "        # Update the target sequence \n",
        "        target_seq = np.zeros((1,1))\n",
        "        target_seq[0, 0] = sampled_token_index\n",
        "\n",
        "        # Update states\n",
        "        states_value = [h, c]\n",
        "\n",
        "    #return the decoded_sentence\n",
        "    return decoded_sentence"
      ],
      "execution_count": null,
      "outputs": []
    },
    {
      "cell_type": "code",
      "metadata": {
        "id": "rR4Jjwcl-usM"
      },
      "source": [
        "#Declaring list for my results\n",
        "y_hat_attention = []\n",
        "\n",
        "\n",
        "#Will calculatge the overall BLEU score for the corpus using the relevant BLEU function from nltk\n",
        "#Have a lot of testing samples so does take some time\n",
        "\n",
        "for sent in range (len(encoder_input_test_data)):\n",
        "  input_sequence = encoder_input_test_data[sent:sent + 1]\n",
        "  decoded_sentence = decode_sequence_attention(input_sequence)\n",
        "\n",
        "  #This appends the sentence to the predictions as a list minus the <eos> token as the BLEU function doesnt like it\n",
        "  y_hat_attention.append(decoded_sentence.split()[:-1])"
      ],
      "execution_count": null,
      "outputs": []
    },
    {
      "cell_type": "code",
      "metadata": {
        "id": "hRvJLtoD_bCJ"
      },
      "source": [
        " #Printing BLEU for attention model\n",
        " BLEU_attention = round(nltk.translate.bleu_score.corpus_bleu(y_true,y_hat_attention),2)\n",
        " print(\"After evaluation on unseen data, we can see our BLEU is \",BLEU_attention)"
      ],
      "execution_count": null,
      "outputs": []
    },
    {
      "cell_type": "markdown",
      "metadata": {
        "id": "5JibJfYiBLhQ"
      },
      "source": [
        "# Final Analysis\n",
        "While my original model wasn't the best, I do think it had some promise. It did get a BLEU on average of around 0.3 when the training accuracy was so still so low after 100 epochs. I do think if I left it to train for a long time it would be obtaining good results.\n",
        " \n",
        "\n",
        "While I was not able to get attention working you can see my work and thinking above. While I cannot say for definite as I did not get the results, I do think the attention model would have gotten a better BLEU score than my first model just due to the extra information it adds to the model.\n"
      ]
    }
  ]
}